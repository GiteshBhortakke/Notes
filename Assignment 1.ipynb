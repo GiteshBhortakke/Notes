{
 "cells": [
  {
   "cell_type": "code",
   "execution_count": null,
   "id": "65168698-97f2-4159-9efa-4d1f9f6ca190",
   "metadata": {},
   "outputs": [],
   "source": [
    "y= float(input(\"Enter the Number: \"))\n",
    "if y>90:\n",
    "    print(\"Grade A\")\n",
    "elif y>70:\n",
    "    print(\"Grade B\")\n",
    "elif y<=70:\n",
    "    print('Grade F')\n",
    "    \n",
    "    \n",
    "         "
   ]
  },
  {
   "cell_type": "code",
   "execution_count": null,
   "id": "4cfc1b58-6483-4a48-94e2-4cee228b4d37",
   "metadata": {},
   "outputs": [],
   "source": [
    "a=int(input(\"Enter the number\"))\n",
    "b=int(input(\"Enter the number\"))\n",
    "if a>b:\n",
    "    print(\"A is greater than B\")\n",
    "elif b>a:\n",
    "    print(\"B is greater than A\")\n",
    "elif a==b:\n",
    "    print(\"Both numbers are equal\")"
   ]
  },
  {
   "cell_type": "code",
   "execution_count": null,
   "id": "2bdaef7c-d164-41e8-b862-e240e868c2c4",
   "metadata": {},
   "outputs": [],
   "source": []
  },
  {
   "cell_type": "code",
   "execution_count": null,
   "id": "df85b347-891c-4555-b966-a5d720438d75",
   "metadata": {},
   "outputs": [],
   "source": []
  },
  {
   "cell_type": "markdown",
   "id": "f4b76983-d3ea-4e01-bf01-c5d8e6b08fc5",
   "metadata": {},
   "source": []
  },
  {
   "cell_type": "code",
   "execution_count": 1,
   "id": "a554053e-e230-47d4-81ef-497050477438",
   "metadata": {},
   "outputs": [
    {
     "name": "stdin",
     "output_type": "stream",
     "text": [
      "Plz Select the language 1:English 2:Hindi 1\n",
      "Enter your Pin number 2580\n"
     ]
    },
    {
     "name": "stdout",
     "output_type": "stream",
     "text": [
      "Enter 1 for withdrawal \n",
      "Enter 2 for balance check\n"
     ]
    },
    {
     "name": "stdin",
     "output_type": "stream",
     "text": [
      "Enter the number 1\n"
     ]
    },
    {
     "name": "stdout",
     "output_type": "stream",
     "text": [
      "Enter the amount to withdraw\n"
     ]
    },
    {
     "name": "stdin",
     "output_type": "stream",
     "text": [
      "Amount 2000\n"
     ]
    },
    {
     "name": "stdout",
     "output_type": "stream",
     "text": [
      "your amount has been Withdrawn Successfully\n",
      "Account Balance 8000\n"
     ]
    }
   ],
   "source": [
    "pin_number=2580\n",
    "bank_balance=10000\n",
    "lang=int(input(\"Plz Select the language 1:English 2:Hindi\"))\n",
    "if lang==1:\n",
    "    pass\n",
    "elif lang==2:\n",
    "    print(\"Kindly Select English\")\n",
    "    \n",
    "    #print(\"English\")\n",
    "\n",
    "pin_no=int(input(\"Enter your Pin number\")) \n",
    "if pin_number==pin_no:\n",
    "    print(\"Enter 1 for withdrawal \\nEnter 2 for balance check\")\n",
    "    a=int(input(\"Enter the number\"))\n",
    "    if a==1:\n",
    "        print(\"Enter the amount to withdraw\")\n",
    "        b=int(input('Amount'))\n",
    "        if (b>bank_balance):\n",
    "            print(\"Insufficient amount\")\n",
    "        else:\n",
    "            print(\"your amount has been Withdrawn Successfully\")      \n",
    "    elif a==2:\n",
    "        print(f\"your account balance is {bank_balance}\")\n",
    "elif pin_number!=pin_no:\n",
    "    print(\"Plzz enter valid pin number\")\n",
    "print(f'Account Balance {bank_balance-b}')"
   ]
  },
  {
   "cell_type": "code",
   "execution_count": null,
   "id": "0015d991-3d2e-4e92-b6b9-146901c68f5f",
   "metadata": {},
   "outputs": [],
   "source": []
  },
  {
   "cell_type": "code",
   "execution_count": null,
   "id": "b99d58b4-5d72-4ad6-a28b-1f6779e76fd5",
   "metadata": {},
   "outputs": [],
   "source": []
  },
  {
   "cell_type": "code",
   "execution_count": null,
   "id": "1de056fb-b4ba-4220-baba-4d17cbd2c96d",
   "metadata": {},
   "outputs": [],
   "source": []
  },
  {
   "cell_type": "code",
   "execution_count": null,
   "id": "41cbce1c-f7bc-4c00-b652-24546b5cb973",
   "metadata": {},
   "outputs": [],
   "source": []
  },
  {
   "cell_type": "code",
   "execution_count": 10,
   "id": "dd98d7e2-37ea-4f0b-90c2-f6830855d120",
   "metadata": {},
   "outputs": [
    {
     "name": "stdin",
     "output_type": "stream",
     "text": [
      "Enter your weight in kgs- 70\n",
      "Type F-feet/M-meters for Height F\n",
      "Enter the height in Feet 10\n",
      "Enter the height in Inches 1\n"
     ]
    },
    {
     "name": "stdout",
     "output_type": "stream",
     "text": [
      "Your Bmi 7.410710812132642\n",
      "You are Underweight\n"
     ]
    }
   ],
   "source": [
    "user_weight = float(input(\"Enter your weight in kgs-\"))\n",
    "user_height=input(\"Type F-feet/M-meters for Height\")\n",
    "if user_height=='F':\n",
    "    userh_feet=float(input(\"Enter the height in Feet\"))\n",
    "    userh_inch=float(input(\"Enter the height in Inches\"))\n",
    "    total_meters= (userh_feet*0.3048)+(userh_inch*0.0254)\n",
    "    Bmi=(user_weight/(total_meters**2))\n",
    "    print(f'Your Bmi {Bmi}')\n",
    "elif user_height=='M':\n",
    "    userh_meters=float(input(\"Enter the height in Meters\"))\n",
    "    Bmi=(user_weight/(userh_meters**2))\n",
    "    print(f'Your Bmi- {Bmi}')\n",
    "if Bmi<18.5:\n",
    "    print(\"You are Underweight\")\n",
    "elif Bmi>=18.5 and Bmi<25:\n",
    "    print(\"You are Normal\")\n",
    "elif Bmi>=25 and Bmi<30:\n",
    "    print(\"You are overweight\")\n",
    "elif Bmi>30:\n",
    "    print('You are very-overweight')\n",
    "    \n",
    "\n",
    "\n",
    "\n"
   ]
  },
  {
   "cell_type": "code",
   "execution_count": null,
   "id": "fe1727b8-b89c-40a8-85d9-bf28d42276d0",
   "metadata": {},
   "outputs": [],
   "source": []
  },
  {
   "cell_type": "code",
   "execution_count": null,
   "id": "de2611a2-321d-4c6f-9f64-7b9ba292ced6",
   "metadata": {},
   "outputs": [],
   "source": [
    "def max_of_three(a,b,c):\n",
    "    if a>=b:\n",
    "        if a>=c:\n",
    "            return a\n",
    "    elif b>=c:\n",
    "        if b>=a:\n",
    "            return b\n",
    "    elif c>=a:\n",
    "        if c>=b:\n",
    "            return c\n",
    "\n",
    "a=max_of_three(10,2,3)\n",
    "print(a)\n",
    "\n"
   ]
  },
  {
   "cell_type": "code",
   "execution_count": null,
   "id": "22004c86-c2fa-4fe4-8471-066276867480",
   "metadata": {},
   "outputs": [],
   "source": [
    "a=30\n",
    "b=20\n",
    "c=10\n",
    "print(max(a,b,c))"
   ]
  },
  {
   "cell_type": "code",
   "execution_count": null,
   "id": "94c19750-a2e8-4c08-99a2-aa542c89b6d6",
   "metadata": {},
   "outputs": [],
   "source": []
  },
  {
   "cell_type": "code",
   "execution_count": null,
   "id": "c421223c-347d-4f1a-89db-003ddb096e3f",
   "metadata": {},
   "outputs": [],
   "source": []
  },
  {
   "cell_type": "code",
   "execution_count": null,
   "id": "808bd644-b968-420e-9dcd-ea7857971d36",
   "metadata": {},
   "outputs": [],
   "source": [
    "a = str(input('Enter the String- '))\n",
    "a=a.lower()\n",
    "if a[:]==a[::-1]:\n",
    "    print(True)\n",
    "else:\n",
    "    print(False)\n"
   ]
  },
  {
   "cell_type": "code",
   "execution_count": null,
   "id": "c1a95833-8e02-455f-a1ea-a7f5920df87f",
   "metadata": {},
   "outputs": [],
   "source": []
  },
  {
   "cell_type": "raw",
   "id": "06c92a79-1605-465f-a87b-2210e3131f39",
   "metadata": {},
   "source": []
  },
  {
   "cell_type": "raw",
   "id": "8c2e07f2-3633-48d6-9fd1-cebd4415e815",
   "metadata": {},
   "source": []
  },
  {
   "cell_type": "code",
   "execution_count": 3,
   "id": "2d2a0f56-c8ab-472d-a9f8-f551bc5c25d1",
   "metadata": {},
   "outputs": [],
   "source": [
    "def is_leap_year(a):\n",
    "    if a%4==0:\n",
    "        return True\n",
    "    else:\n",
    "        return False\n",
    "\n",
    "\n",
    "a = is_leap_year(2012)\n"
   ]
  },
  {
   "cell_type": "code",
   "execution_count": null,
   "id": "3768ff41-802f-4f64-82ae-489ed8dc3e48",
   "metadata": {},
   "outputs": [],
   "source": []
  },
  {
   "cell_type": "code",
   "execution_count": null,
   "id": "17b11457-2dbb-4086-b239-941b73c3f18a",
   "metadata": {},
   "outputs": [],
   "source": []
  },
  {
   "cell_type": "code",
   "execution_count": 4,
   "id": "362af586-b70f-46c9-b721-5e1ddb46902c",
   "metadata": {
    "scrolled": true
   },
   "outputs": [
    {
     "name": "stdout",
     "output_type": "stream",
     "text": [
      "1\n",
      "2\n",
      "Fizz\n",
      "4\n",
      "Buzz\n",
      "Fizz\n",
      "7\n",
      "8\n",
      "Fizz\n",
      "Buzz\n",
      "11\n",
      "Fizz\n",
      "13\n",
      "14\n",
      "FizzBuzz\n",
      "16\n",
      "17\n",
      "Fizz\n",
      "19\n",
      "Buzz\n",
      "Fizz\n",
      "22\n",
      "23\n",
      "Fizz\n",
      "Buzz\n",
      "26\n",
      "Fizz\n",
      "28\n",
      "29\n",
      "FizzBuzz\n",
      "31\n",
      "32\n",
      "Fizz\n",
      "34\n",
      "Buzz\n",
      "Fizz\n",
      "37\n",
      "38\n",
      "Fizz\n",
      "Buzz\n",
      "41\n",
      "Fizz\n",
      "43\n",
      "44\n",
      "FizzBuzz\n",
      "46\n",
      "47\n",
      "Fizz\n",
      "49\n",
      "Buzz\n",
      "Fizz\n",
      "52\n",
      "53\n",
      "Fizz\n",
      "Buzz\n",
      "56\n",
      "Fizz\n",
      "58\n",
      "59\n",
      "FizzBuzz\n",
      "61\n",
      "62\n",
      "Fizz\n",
      "64\n",
      "Buzz\n",
      "Fizz\n",
      "67\n",
      "68\n",
      "Fizz\n",
      "Buzz\n",
      "71\n",
      "Fizz\n",
      "73\n",
      "74\n",
      "FizzBuzz\n",
      "76\n",
      "77\n",
      "Fizz\n",
      "79\n",
      "Buzz\n",
      "Fizz\n",
      "82\n",
      "83\n",
      "Fizz\n",
      "Buzz\n",
      "86\n",
      "Fizz\n",
      "88\n",
      "89\n",
      "FizzBuzz\n",
      "91\n",
      "92\n",
      "Fizz\n",
      "94\n",
      "Buzz\n",
      "Fizz\n",
      "97\n",
      "98\n",
      "Fizz\n",
      "Buzz\n"
     ]
    }
   ],
   "source": [
    "for i in range (1,101):\n",
    "    if i%3==0 and i%5==0:\n",
    "        print(\"FizzBuzz\")\n",
    "    elif i%3==0:\n",
    "        print('Fizz')\n",
    "    elif i%5==0:\n",
    "        print(\"Buzz\")\n",
    "    else:\n",
    "        print(i)\n",
    "    \n",
    "    "
   ]
  },
  {
   "cell_type": "code",
   "execution_count": null,
   "id": "b78bdeed-6d86-4979-8e29-e5aab32a4c39",
   "metadata": {},
   "outputs": [],
   "source": []
  },
  {
   "cell_type": "code",
   "execution_count": 5,
   "id": "6b91e005-1ed2-44fc-bf93-d32eca1d36f0",
   "metadata": {},
   "outputs": [
    {
     "name": "stdin",
     "output_type": "stream",
     "text": [
      "1 for farenheit \n",
      "2 for celsius 1\n",
      "Enter the temperature 200\n"
     ]
    },
    {
     "name": "stdout",
     "output_type": "stream",
     "text": [
      "Temperature in celsius 93.33333333333333\n"
     ]
    }
   ],
   "source": [
    "\n",
    "user_input=int(input('1 for farenheit \\n2 for celsius'))\n",
    "if user_input==1:\n",
    "    b=float(input(\"Enter the temperature\"))\n",
    "    print('Temperature in celsius',(b-32)/1.8)\n",
    "elif user_input==2:\n",
    "    c=float(input(\"Enter the temperature\"))\n",
    "    print((c*1.8)+32)    \n",
    "\n",
    "    "
   ]
  },
  {
   "cell_type": "code",
   "execution_count": null,
   "id": "7503be74-b390-4c2a-9be0-f9ad7893c855",
   "metadata": {},
   "outputs": [],
   "source": []
  },
  {
   "cell_type": "code",
   "execution_count": null,
   "id": "e32f3eab-4394-4ccb-b9b7-fa7c15f7da78",
   "metadata": {},
   "outputs": [],
   "source": []
  },
  {
   "cell_type": "code",
   "execution_count": null,
   "id": "8b97c26a-4728-483a-a9d2-75b46223f6bd",
   "metadata": {},
   "outputs": [],
   "source": []
  },
  {
   "cell_type": "code",
   "execution_count": 6,
   "id": "ace29492-1b72-4849-951a-b2ceba90632b",
   "metadata": {},
   "outputs": [
    {
     "name": "stdin",
     "output_type": "stream",
     "text": [
      "Enter string 1 nitin\n",
      "Enter string 2 gitesh\n"
     ]
    },
    {
     "name": "stdout",
     "output_type": "stream",
     "text": [
      "Strings are not anogram\n"
     ]
    }
   ],
   "source": [
    "a=str(input(\"Enter string 1\"))\n",
    "b=str(input(\"Enter string 2\"))\n",
    "a=a.lower()\n",
    "b=b.lower()\n",
    "c=sorted(a)\n",
    "d=sorted(b)\n",
    "\n",
    "if c==d:\n",
    "    print(\"Strings are Anagram\")\n",
    "else:\n",
    "    print(\"Strings are not anogram\")\n",
    "    "
   ]
  },
  {
   "cell_type": "code",
   "execution_count": null,
   "id": "2b0c7eee-60ec-46f6-9835-2a21e2da6805",
   "metadata": {},
   "outputs": [],
   "source": []
  },
  {
   "cell_type": "code",
   "execution_count": null,
   "id": "11894f81-65fc-47d5-aef4-f4a93148fde1",
   "metadata": {},
   "outputs": [],
   "source": []
  },
  {
   "cell_type": "code",
   "execution_count": 7,
   "id": "c48c7721-4e19-4360-bcfc-393f02790dca",
   "metadata": {},
   "outputs": [
    {
     "name": "stdout",
     "output_type": "stream",
     "text": [
      "paales\n"
     ]
    }
   ],
   "source": [
    "def replace_character(string,ch1,ch2):\n",
    "    string_list=list(string)\n",
    "    for i in range(len(string_list)):\n",
    "        if string_list[i]==ch1:\n",
    "            string_list[i]=ch2\n",
    "        elif string_list[i]==ch2:\n",
    "            string_list[i]=ch1    \n",
    "\n",
    "    return ''.join(string_list)\n",
    "\n",
    "original_str='apples'\n",
    "ch1='a'\n",
    "ch2='p'\n",
    "result_str=replace_character(original_str,ch1,ch2)\n",
    "print(result_str)\n",
    "\n",
    "        "
   ]
  },
  {
   "cell_type": "code",
   "execution_count": 9,
   "id": "d31a34b6-f887-4b1f-bee4-2cbf0aacddf8",
   "metadata": {},
   "outputs": [
    {
     "name": "stdout",
     "output_type": "stream",
     "text": [
      "True\n"
     ]
    }
   ],
   "source": [
    "def is_leap_year(a):\n",
    "    if a%4==0:\n",
    "        return True\n",
    "    else:\n",
    "        return False\n",
    "\n",
    "\n",
    "a = is_leap_year(2012)\n",
    "print(a)"
   ]
  },
  {
   "cell_type": "code",
   "execution_count": 2,
   "id": "10b7b942-9916-4ec7-a3a0-a9538ded9913",
   "metadata": {},
   "outputs": [
    {
     "name": "stdout",
     "output_type": "stream",
     "text": [
      "{1, 2, 3}\n"
     ]
    }
   ],
   "source": [
    "a = {1, 2, 3}\n",
    "b = {6, 4, 5}\n",
    "c = a - b\n",
    "print(c)"
   ]
  },
  {
   "cell_type": "code",
   "execution_count": null,
   "id": "f173db1d-b98f-43cf-8d98-5215cebf5e40",
   "metadata": {},
   "outputs": [],
   "source": []
  },
  {
   "cell_type": "code",
   "execution_count": 10,
   "id": "8e767c88-9dcc-416c-9b46-151ccbfd373a",
   "metadata": {},
   "outputs": [
    {
     "data": {
      "text/plain": [
       "6"
      ]
     },
     "execution_count": 10,
     "metadata": {},
     "output_type": "execute_result"
    }
   ],
   "source": [
    "add_numbers=lambda a,b:a+b\n",
    "add_numbers(3,3)"
   ]
  },
  {
   "cell_type": "code",
   "execution_count": null,
   "id": "a8e21f6b-4b0e-46b8-b95e-44b9842a8ff6",
   "metadata": {},
   "outputs": [],
   "source": []
  },
  {
   "cell_type": "code",
   "execution_count": null,
   "id": "d6442139-7797-48de-8e44-34a0764b8ff5",
   "metadata": {},
   "outputs": [],
   "source": []
  },
  {
   "cell_type": "code",
   "execution_count": 11,
   "id": "3c85d5f6-25aa-45fb-9492-72538597981f",
   "metadata": {},
   "outputs": [
    {
     "data": {
      "text/plain": [
       "10"
      ]
     },
     "execution_count": 11,
     "metadata": {},
     "output_type": "execute_result"
    }
   ],
   "source": [
    "\n",
    "add=lambda x,y:x+y\n",
    "add(5,5)"
   ]
  },
  {
   "cell_type": "code",
   "execution_count": null,
   "id": "2a88e167-e08a-4765-9fd8-9233268e91ba",
   "metadata": {},
   "outputs": [],
   "source": []
  }
 ],
 "metadata": {
  "kernelspec": {
   "display_name": "Python 3 (ipykernel)",
   "language": "python",
   "name": "python3"
  },
  "language_info": {
   "codemirror_mode": {
    "name": "ipython",
    "version": 3
   },
   "file_extension": ".py",
   "mimetype": "text/x-python",
   "name": "python",
   "nbconvert_exporter": "python",
   "pygments_lexer": "ipython3",
   "version": "3.11.5"
  }
 },
 "nbformat": 4,
 "nbformat_minor": 5
}
