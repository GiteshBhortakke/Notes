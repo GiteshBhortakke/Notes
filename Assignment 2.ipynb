{
 "cells": [
  {
   "cell_type": "code",
   "execution_count": 2,
   "id": "f96135a2-520b-4f9b-abc3-afe2f47fdcb4",
   "metadata": {},
   "outputs": [
    {
     "name": "stdin",
     "output_type": "stream",
     "text": [
      "Enter Phone Number 9834746133\n"
     ]
    },
    {
     "name": "stdout",
     "output_type": "stream",
     "text": [
      "48\n",
      "12\n",
      "3\n",
      "Done\n"
     ]
    }
   ],
   "source": [
    "user_no=input(\"Enter Phone Number\")\n",
    "total_sum=0\n",
    "index=0\n",
    "while index<=9:\n",
    "    total_sum=int(user_no[index])+total_sum\n",
    "    index+=1\n",
    "print(total_sum)\n",
    "a=str(total_sum)\n",
    "b=(int(a[0])+int(a[1]))\n",
    "print(b)\n",
    "c=str(b)\n",
    "if len(c)==2:\n",
    "    d=(int(c[0])+int(c[1]))\n",
    "    print(d)\n",
    "    print('Done')\n",
    "elif len(c)==1:\n",
    "    print('Done')\n"
   ]
  },
  {
   "cell_type": "code",
   "execution_count": 1,
   "id": "8541ade3-b0b1-403d-80a9-9072828c33ac",
   "metadata": {},
   "outputs": [
    {
     "name": "stdin",
     "output_type": "stream",
     "text": [
      "Enter Your PhoneNumber 9834746133\n"
     ]
    },
    {
     "name": "stdout",
     "output_type": "stream",
     "text": [
      "48\n",
      "12\n",
      "3\n"
     ]
    }
   ],
   "source": [
    "total_sum=0\n",
    "index=0\n",
    "user_phone_no=input(\"Enter Your PhoneNumber\")\n",
    "while index<len(user_phone_no):\n",
    "    if user_phone_no[index].isdigit():\n",
    "        total_sum+=int(user_phone_no[index])\n",
    "    index+=1\n",
    "print(total_sum)\n",
    "a= str(total_sum)\n",
    "b=int(a[0])+int(a[1])\n",
    "print(b)\n",
    "\n",
    "c=str(b)\n",
    "d=(int(c[0])+int(c[1]))\n",
    "print(d)\n",
    "\n"
   ]
  },
  {
   "cell_type": "code",
   "execution_count": null,
   "id": "a4920602-9382-4074-8456-0473d3d2a7cc",
   "metadata": {},
   "outputs": [],
   "source": []
  },
  {
   "cell_type": "code",
   "execution_count": null,
   "id": "382f2a1e-f3da-4253-aca0-69e058700ff8",
   "metadata": {},
   "outputs": [],
   "source": []
  },
  {
   "cell_type": "code",
   "execution_count": null,
   "id": "67faf228-6ba9-4738-91dd-0def94473c8f",
   "metadata": {},
   "outputs": [],
   "source": []
  },
  {
   "cell_type": "code",
   "execution_count": 2,
   "id": "838b7609-7f02-47a8-ba38-cfd7c0ab87a5",
   "metadata": {},
   "outputs": [
    {
     "name": "stdin",
     "output_type": "stream",
     "text": [
      "Enter your phonenumber 9834746133\n"
     ]
    },
    {
     "name": "stdout",
     "output_type": "stream",
     "text": [
      "48\n"
     ]
    }
   ],
   "source": [
    "total_sum=0\n",
    "index=0\n",
    "a =input('Enter your phonenumber')\n",
    "while index<len(a):\n",
    "    if a[index].isdigit():\n",
    "        total_sum+=int(a[index])\n",
    "    index+=1\n",
    "print(total_sum)"
   ]
  },
  {
   "cell_type": "code",
   "execution_count": null,
   "id": "82aa13d3-d16d-48df-b36f-58858903c318",
   "metadata": {},
   "outputs": [],
   "source": [
    "\n"
   ]
  },
  {
   "cell_type": "code",
   "execution_count": null,
   "id": "2b194c1c-2532-45de-bc87-2e8b5971b083",
   "metadata": {},
   "outputs": [],
   "source": []
  },
  {
   "cell_type": "code",
   "execution_count": 3,
   "id": "3c379969-92a9-45b0-a9e7-349a6845227e",
   "metadata": {},
   "outputs": [
    {
     "name": "stdin",
     "output_type": "stream",
     "text": [
      "Enter the phone number 9834746133\n"
     ]
    },
    {
     "name": "stdout",
     "output_type": "stream",
     "text": [
      "Sum of Phone number 48\n",
      "12\n"
     ]
    },
    {
     "data": {
      "text/plain": [
       "3"
      ]
     },
     "execution_count": 3,
     "metadata": {},
     "output_type": "execute_result"
    }
   ],
   "source": [
    "user_no=input(\"Enter the phone number\")\n",
    "a=0\n",
    "i=0\n",
    "while i<=9:\n",
    "    a=int(user_no[i])+a\n",
    "    i=i+1\n",
    "print(f'Sum of Phone number',a)\n",
    "b=str(a)\n",
    "b\n",
    "c=(int(b[0])+int(b[1]))\n",
    "print(c)\n",
    "e=str(c)\n",
    "e\n",
    "\n",
    "d=int(e[0])+int(e[1])\n",
    "d\n"
   ]
  },
  {
   "cell_type": "code",
   "execution_count": 4,
   "id": "7093af92-81f7-46c7-887b-36a9ee7c7eb1",
   "metadata": {},
   "outputs": [
    {
     "data": {
      "text/plain": [
       "str"
      ]
     },
     "execution_count": 4,
     "metadata": {},
     "output_type": "execute_result"
    }
   ],
   "source": [
    "type(e)"
   ]
  },
  {
   "cell_type": "code",
   "execution_count": null,
   "id": "525b2e1e-e92b-4228-aa05-61e47db0d231",
   "metadata": {},
   "outputs": [],
   "source": [
    "\n",
    "    "
   ]
  },
  {
   "cell_type": "code",
   "execution_count": null,
   "id": "03a36cea-c6d4-486e-8d9b-2125d6661e33",
   "metadata": {},
   "outputs": [],
   "source": []
  },
  {
   "cell_type": "code",
   "execution_count": null,
   "id": "4f6382f8-99bd-47b9-850a-c7b3631d50c5",
   "metadata": {},
   "outputs": [],
   "source": []
  },
  {
   "cell_type": "code",
   "execution_count": 5,
   "id": "8de69c9a-a587-4c27-8a58-f0eec1b42d1a",
   "metadata": {},
   "outputs": [
    {
     "name": "stdin",
     "output_type": "stream",
     "text": [
      "Enter the phone number 9834746133\n"
     ]
    },
    {
     "name": "stdout",
     "output_type": "stream",
     "text": [
      "Sum of phonenumber is 48\n",
      "sum of 2 digit 12\n",
      "Sum of next 2 digit 3\n"
     ]
    }
   ],
   "source": [
    "user_phone_no=input(\"Enter the phone number\")\n",
    "total_sum=0\n",
    "index=0\n",
    "while index<=9:\n",
    "    total_sum=int(user_phone_no[index])+total_sum\n",
    "    index=index+1\n",
    "print(f\"Sum of phonenumber is {total_sum}\")\n",
    "\n",
    "a=str(total_sum)\n",
    "\n",
    "b=int(a[0])+int(a[1])\n",
    "print(f'sum of 2 digit {b}')\n",
    "\n",
    "c=str(b)\n",
    "\n",
    "d=int(c[0])+int(c[1])\n",
    "print(f'Sum of next 2 digit {d}')\n",
    "\n"
   ]
  },
  {
   "cell_type": "code",
   "execution_count": null,
   "id": "fc636485-8562-40c7-b369-213dc57c5e7c",
   "metadata": {},
   "outputs": [],
   "source": []
  },
  {
   "cell_type": "code",
   "execution_count": 6,
   "id": "b594a522-b57b-48c3-96c1-c2022cd03dc0",
   "metadata": {},
   "outputs": [
    {
     "name": "stdin",
     "output_type": "stream",
     "text": [
      "Enter the string \n"
     ]
    },
    {
     "name": "stdout",
     "output_type": "stream",
     "text": [
      "String is palindrome\n"
     ]
    }
   ],
   "source": [
    "a=str(input(\"Enter the string\"))\n",
    "i=0\n",
    "a=a.lower()\n",
    "while i<=0:\n",
    "    b=a[::-1]  \n",
    "    i=i+1\n",
    "    if a==b:\n",
    "        print('String is palindrome')\n",
    "    else:\n",
    "        print('String is Not palindrome')\n",
    "        \n",
    "\n",
    "\n",
    "\n"
   ]
  },
  {
   "cell_type": "code",
   "execution_count": 7,
   "id": "f4a0c574-39ab-4d03-9099-6de6d6397f8d",
   "metadata": {},
   "outputs": [
    {
     "name": "stdin",
     "output_type": "stream",
     "text": [
      "Enter the password Pass@123\n"
     ]
    },
    {
     "name": "stdout",
     "output_type": "stream",
     "text": [
      "Successfully\n"
     ]
    }
   ],
   "source": [
    "\n",
    "\n",
    "password='Pass@123'\n",
    "user=input('Enter the password')\n",
    "while user!=password:\n",
    "    print(\"you entered wrong password, Plzz Enter correct one\")\n",
    "    user=input('Enter the password')\n",
    "print('Successfully')\n",
    "         \n",
    "    \n",
    "    \n",
    "    "
   ]
  },
  {
   "cell_type": "markdown",
   "id": "39cdb4a1-c4b8-4054-ab05-68a593889cf9",
   "metadata": {},
   "source": [
    "## Digit=int(input(\"Enter the Number\"))\n",
    "sum=0\n",
    "i=0\n",
    "while i<10:\n",
    "    a=str(Digit)\n",
    "    b=int(a[0])+int(a[1])\n",
    "    print(b)\n",
    "    Digit=int(input(\"Enter the Number\"))\n",
    "    i+=1\n",
    "    "
   ]
  },
  {
   "cell_type": "code",
   "execution_count": null,
   "id": "b4fee6a7-0bf9-4c12-b8d9-4a7f8a0c8054",
   "metadata": {},
   "outputs": [],
   "source": []
  },
  {
   "cell_type": "code",
   "execution_count": null,
   "id": "fa687025-f2bc-46d3-a273-739377a9cc58",
   "metadata": {},
   "outputs": [],
   "source": [
    "\n",
    "    \n"
   ]
  },
  {
   "cell_type": "code",
   "execution_count": null,
   "id": "48f7ca6a-9d91-4aef-8a5e-5a20fa5914e8",
   "metadata": {},
   "outputs": [],
   "source": [
    "#curr_population=100\n",
    "pm=100\n",
    "i=0\n",
    "while i<=11:\n",
    "    pm=(pm*2)\n",
    "    i+=1\n",
    "    print(i,\"month population\",pm)"
   ]
  },
  {
   "cell_type": "code",
   "execution_count": null,
   "id": "69bca28b-7da1-400e-a0ca-9b06c572983f",
   "metadata": {},
   "outputs": [],
   "source": []
  },
  {
   "cell_type": "code",
   "execution_count": null,
   "id": "fe56c3f3-508b-4b73-b3ca-115b4d8b9d74",
   "metadata": {},
   "outputs": [],
   "source": [
    "cp=100\n",
    "month=12\n",
    "month_counter=1\n",
    "while month-counter<month:\n",
    "    cp*2\n",
    "    i+=1\n",
    "    print(cp)"
   ]
  },
  {
   "cell_type": "code",
   "execution_count": null,
   "id": "e012fa4d-a717-4076-88e8-38ed9eef09f9",
   "metadata": {},
   "outputs": [],
   "source": [
    "def fibonacci_series(n):\n",
    "    # Initialize variables for the first two terms of the series\n",
    "    a, b = 0, 1\n",
    "    \n",
    "    # Counter to keep track of the number of terms printed\n",
    "    count = 0\n",
    "    \n",
    "    # Print the first n Fibonacci numbers using a while loop\n",
    "    while count < n:\n",
    "        print(a, end=\" \")\n",
    "        # Update the values of a and b to generate the next term in the series\n",
    "        a, b = b, a + b\n",
    "        count += 1\n",
    "\n",
    "# Test the function\n",
    "num_terms = 10  # Change this value to print a different number of terms\n",
    "fibonacci_series(num_terms)\n"
   ]
  },
  {
   "cell_type": "code",
   "execution_count": null,
   "id": "7be5d850-cc5b-40db-a632-e3cdf069b2fd",
   "metadata": {},
   "outputs": [],
   "source": []
  },
  {
   "cell_type": "code",
   "execution_count": null,
   "id": "63eaabc7-da5f-47f2-b2f9-7d5b764fb88b",
   "metadata": {},
   "outputs": [],
   "source": [
    "\n",
    "\n",
    "    \n",
    "\n",
    "\n"
   ]
  },
  {
   "cell_type": "code",
   "execution_count": null,
   "id": "d743977b-0eb9-4718-a8cb-750dfec08eeb",
   "metadata": {},
   "outputs": [],
   "source": []
  },
  {
   "cell_type": "code",
   "execution_count": null,
   "id": "e317df8e-2054-40f9-9f8d-484058120c9f",
   "metadata": {},
   "outputs": [],
   "source": []
  },
  {
   "cell_type": "code",
   "execution_count": null,
   "id": "2d761bd0-c04a-4424-a7df-3976b7b68c95",
   "metadata": {},
   "outputs": [],
   "source": []
  },
  {
   "cell_type": "code",
   "execution_count": null,
   "id": "beb7f457-0824-406a-8d2d-8f7f48c98b8f",
   "metadata": {},
   "outputs": [],
   "source": []
  }
 ],
 "metadata": {
  "kernelspec": {
   "display_name": "Python 3 (ipykernel)",
   "language": "python",
   "name": "python3"
  },
  "language_info": {
   "codemirror_mode": {
    "name": "ipython",
    "version": 3
   },
   "file_extension": ".py",
   "mimetype": "text/x-python",
   "name": "python",
   "nbconvert_exporter": "python",
   "pygments_lexer": "ipython3",
   "version": "3.11.5"
  }
 },
 "nbformat": 4,
 "nbformat_minor": 5
}
