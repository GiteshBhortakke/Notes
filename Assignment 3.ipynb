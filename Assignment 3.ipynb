{
 "cells": [
  {
   "cell_type": "markdown",
   "id": "f0264bf7-c156-4a73-9d29-b80c715f2ef2",
   "metadata": {},
   "source": [
    "#Assignment 3"
   ]
  },
  {
   "cell_type": "code",
   "execution_count": 5,
   "id": "68131ba2-532a-42dd-a9d9-68aacf180c1f",
   "metadata": {},
   "outputs": [
    {
     "name": "stdin",
     "output_type": "stream",
     "text": [
      "Enter Phone Number 9766973745\n"
     ]
    },
    {
     "name": "stdout",
     "output_type": "stream",
     "text": [
      "63\n",
      "9\n",
      "Done\n"
     ]
    }
   ],
   "source": [
    "user_no=input(\"Enter Phone Number\")\n",
    "total_sum=0\n",
    "index=0\n",
    "while index<=9:\n",
    "    total_sum=int(user_no[index])+total_sum\n",
    "    index+=1\n",
    "print(total_sum)\n",
    "a=str(total_sum)\n",
    "b=(int(a[0])+int(a[1]))\n",
    "print(b)\n",
    "c=str(b)\n",
    "if len(c)==2:\n",
    "    d=(int(c[0])+int(c[1]))\n",
    "    print(d)\n",
    "    print('Done')\n",
    "elif len(c)==1:\n",
    "    print('Done')\n"
   ]
  },
  {
   "cell_type": "code",
   "execution_count": null,
   "id": "fc23f6de-b0c3-487b-93c7-19b2b399acb8",
   "metadata": {},
   "outputs": [],
   "source": []
  },
  {
   "cell_type": "code",
   "execution_count": null,
   "id": "d66c7e15-ba0b-4db9-88f4-ecbd1e6e456c",
   "metadata": {},
   "outputs": [],
   "source": []
  },
  {
   "cell_type": "code",
   "execution_count": 7,
   "id": "610e3aa6-b027-44ed-9737-e2ca306ac086",
   "metadata": {},
   "outputs": [
    {
     "name": "stdout",
     "output_type": "stream",
     "text": [
      "0 1 1 2 3 5 8 13 21 34 55 89 144 233 377 610 987 1597 2584 4181 "
     ]
    }
   ],
   "source": [
    "num_terms=20\n",
    "a,b=0,1\n",
    "print(a,b,end=' ')\n",
    "while num_terms>2:\n",
    "    a,b=b,a+b\n",
    "    print(b,end=' ')\n",
    "    num_terms-=1"
   ]
  },
  {
   "cell_type": "code",
   "execution_count": null,
   "id": "338b9736-d4dd-4f4d-a254-bc67efb0fb3b",
   "metadata": {},
   "outputs": [],
   "source": []
  },
  {
   "cell_type": "code",
   "execution_count": null,
   "id": "bc05668f-507d-4d74-b7de-1d0da43d5c72",
   "metadata": {},
   "outputs": [],
   "source": []
  },
  {
   "cell_type": "code",
   "execution_count": null,
   "id": "efb57650-a4ce-427f-a98a-c4503e6ea719",
   "metadata": {},
   "outputs": [],
   "source": []
  },
  {
   "cell_type": "code",
   "execution_count": 1,
   "id": "b7071547-4e31-4fe6-9a46-4acbd1f66ffe",
   "metadata": {},
   "outputs": [
    {
     "name": "stdin",
     "output_type": "stream",
     "text": [
      "Enter the phone_number 9766973745\n"
     ]
    },
    {
     "name": "stdout",
     "output_type": "stream",
     "text": [
      "63\n",
      "9\n",
      "Done\n"
     ]
    }
   ],
   "source": [
    "user_phone_no=input('Enter the phone_number')\n",
    "total_sum=0\n",
    "i=0\n",
    "for i in range (0,10):\n",
    "    total_sum=(int(user_phone_no[i]))+total_sum\n",
    "print(total_sum)\n",
    "a=str(total_sum)\n",
    "b=(int(a[0])+int(a[1]))\n",
    "print(b)\n",
    "c=str(b)\n",
    "if len(c)==1:\n",
    "    print('Done')\n",
    "elif len(c)==2:\n",
    "    print(int(c[0])+int(c[1]))\n"
   ]
  },
  {
   "cell_type": "code",
   "execution_count": 52,
   "id": "a3c9c0a7-b765-4ba1-b234-5094981a6459",
   "metadata": {},
   "outputs": [
    {
     "data": {
      "text/plain": [
       "int"
      ]
     },
     "execution_count": 52,
     "metadata": {},
     "output_type": "execute_result"
    }
   ],
   "source": [
    "type(d)"
   ]
  },
  {
   "cell_type": "code",
   "execution_count": null,
   "id": "99df8f99-0158-4c55-8a3c-cb68ef03fd36",
   "metadata": {},
   "outputs": [],
   "source": []
  },
  {
   "cell_type": "code",
   "execution_count": 84,
   "id": "33dd9fdd-43d7-4505-bb87-4452087751aa",
   "metadata": {},
   "outputs": [
    {
     "name": "stdin",
     "output_type": "stream",
     "text": [
      "Enter the number 2\n",
      "Enter the number 2\n",
      "Enter the number 2\n",
      "Enter the number 2\n",
      "Enter the number 2\n"
     ]
    },
    {
     "name": "stdout",
     "output_type": "stream",
     "text": [
      "32\n"
     ]
    }
   ],
   "source": [
    "x=1\n",
    "p=1\n",
    "while x<=5:\n",
    "    i=int(input(\"Enter the number\"))\n",
    "    p=p*i\n",
    "    x+=1\n",
    "print(p)"
   ]
  },
  {
   "cell_type": "code",
   "execution_count": 86,
   "id": "ec4c3c9b-417d-49b9-967c-3c7309049d3b",
   "metadata": {},
   "outputs": [
    {
     "name": "stdout",
     "output_type": "stream",
     "text": [
      "Virat\n",
      "Kolhe\n"
     ]
    }
   ],
   "source": [
    "s={'A':'Virat','B':'Kolhe'}\n",
    "i=1\n",
    "for i in s.values():\n",
    "    print(i)"
   ]
  },
  {
   "cell_type": "code",
   "execution_count": null,
   "id": "e0263309-38ff-477a-a9ba-34f6db191557",
   "metadata": {},
   "outputs": [],
   "source": []
  },
  {
   "cell_type": "code",
   "execution_count": null,
   "id": "fd8ee15d-b04c-403d-8bed-75ddab999f72",
   "metadata": {},
   "outputs": [],
   "source": []
  },
  {
   "cell_type": "code",
   "execution_count": 118,
   "id": "0543492b-4fb8-4f1e-a8ef-053ea10ae7f3",
   "metadata": {},
   "outputs": [
    {
     "name": "stdout",
     "output_type": "stream",
     "text": [
      "30\n"
     ]
    }
   ],
   "source": [
    "a=[1,2,3,4,5,6,7,8,9,10]\n",
    "i=1\n",
    "l=[]\n",
    "l2=[]\n",
    "for i in a:\n",
    "    if i%2==0:\n",
    "        l.append(i)\n",
    "    elif i%2!=0:\n",
    "        l2.append(i)\n",
    "\n",
    "\n",
    "b=0\n",
    "sum=0\n",
    "for i in l:\n",
    "    sum=sum+i\n",
    "print(sum)\n",
    "     \n",
    "\n",
    "\n",
    "     "
   ]
  },
  {
   "cell_type": "code",
   "execution_count": 114,
   "id": "13b150f6-31f3-4865-ac23-135273f65d0c",
   "metadata": {},
   "outputs": [
    {
     "data": {
      "text/plain": [
       "','"
      ]
     },
     "execution_count": 114,
     "metadata": {},
     "output_type": "execute_result"
    }
   ],
   "source": [
    "d=str(l)\n",
    "d[]"
   ]
  },
  {
   "cell_type": "code",
   "execution_count": 134,
   "id": "ea98e080-7aca-473b-8fc3-45564811b7e9",
   "metadata": {},
   "outputs": [
    {
     "name": "stdout",
     "output_type": "stream",
     "text": [
      "meroL\n"
     ]
    }
   ],
   "source": [
    "a='Lorem'\n",
    "rev_str=''\n",
    "for i in a[::-1]:\n",
    "    rev_str+=i\n",
    "print(rev_str)\n",
    "\n"
   ]
  },
  {
   "cell_type": "code",
   "execution_count": null,
   "id": "47a116a7-fa7d-450a-8663-186a0826c1be",
   "metadata": {},
   "outputs": [],
   "source": []
  },
  {
   "cell_type": "code",
   "execution_count": null,
   "id": "647eb056-fb65-48d9-8239-c08ba3d615d9",
   "metadata": {},
   "outputs": [],
   "source": []
  },
  {
   "cell_type": "code",
   "execution_count": 1,
   "id": "73325043-cd76-4660-8feb-5e1679daa041",
   "metadata": {},
   "outputs": [
    {
     "name": "stdin",
     "output_type": "stream",
     "text": [
      "Enter the number 5\n"
     ]
    },
    {
     "name": "stdout",
     "output_type": "stream",
     "text": [
      "5X1=5\n",
      "5X2=10\n",
      "5X3=15\n",
      "5X4=20\n",
      "5X5=25\n",
      "5X6=30\n",
      "5X7=35\n",
      "5X8=40\n",
      "5X9=45\n",
      "5X10=50\n"
     ]
    }
   ],
   "source": [
    "a=eval(input('Enter the number'))\n",
    "for i in range(1,11):\n",
    "    print(f'{a}X{i}={a*i}')"
   ]
  },
  {
   "cell_type": "code",
   "execution_count": null,
   "id": "0f987235-1a8b-47f7-a8ea-e0db25567853",
   "metadata": {},
   "outputs": [],
   "source": []
  },
  {
   "cell_type": "code",
   "execution_count": null,
   "id": "5fb0807f-a178-431a-aa98-907ccca883dc",
   "metadata": {},
   "outputs": [],
   "source": []
  },
  {
   "cell_type": "code",
   "execution_count": 5,
   "id": "315c94d2-f20c-41f9-9b93-7de21b9c984b",
   "metadata": {},
   "outputs": [
    {
     "name": "stdout",
     "output_type": "stream",
     "text": [
      "welcome pratik Greeting\n",
      "welcome pradhum Greeting\n",
      "welcome patil Greeting\n"
     ]
    }
   ],
   "source": [
    "a=['pratik','pradhum','patil','lorem']\n",
    "for i in a:\n",
    "    if (i[0]=='p'):\n",
    "        print(f'welcome {i} Greeting')\n",
    "    \n",
    "    "
   ]
  },
  {
   "cell_type": "code",
   "execution_count": null,
   "id": "7abd1af1-2c1f-436a-b55f-721b144a7da8",
   "metadata": {},
   "outputs": [],
   "source": []
  },
  {
   "cell_type": "code",
   "execution_count": null,
   "id": "b73c55ee-ddf0-4f3e-bcf0-0510b0c7dcb4",
   "metadata": {},
   "outputs": [],
   "source": []
  },
  {
   "cell_type": "code",
   "execution_count": 11,
   "id": "5cd44f4f-3404-4bc0-9daa-a31a1c5c885e",
   "metadata": {},
   "outputs": [
    {
     "name": "stdin",
     "output_type": "stream",
     "text": [
      "Enter the number 199.99\n"
     ]
    },
    {
     "name": "stdout",
     "output_type": "stream",
     "text": [
      "199.99X1=199.99\n",
      "199.99X2=399.98\n",
      "199.99X3=599.97\n",
      "199.99X4=799.96\n",
      "199.99X5=999.95\n",
      "199.99X6=1199.94\n",
      "199.99X7=1399.93\n",
      "199.99X8=1599.92\n",
      "199.99X9=1799.91\n",
      "199.99X10=1999.9\n"
     ]
    }
   ],
   "source": [
    "a=eval(input('Enter the number'))\n",
    "i=1\n",
    "while i<=10:\n",
    "    print(f'{a}X{i}={a*i}')\n",
    "    i+=1"
   ]
  },
  {
   "cell_type": "code",
   "execution_count": null,
   "id": "6b13d390-d4d7-4f94-bf24-f0cc09f413ad",
   "metadata": {},
   "outputs": [],
   "source": []
  },
  {
   "cell_type": "code",
   "execution_count": 8,
   "id": "6dd9d52a-fac9-40ec-baf5-311d460c2969",
   "metadata": {},
   "outputs": [
    {
     "name": "stdin",
     "output_type": "stream",
     "text": [
      "Enter the number 47\n"
     ]
    },
    {
     "name": "stdout",
     "output_type": "stream",
     "text": [
      "The Number is prime\n"
     ]
    }
   ],
   "source": [
    "a = int(input(\"Enter the number\"))\n",
    "prime = True\n",
    "for i in range(2,a):\n",
    "        if (a%i==0):\n",
    "            prime=False\n",
    "            break\n",
    "if prime:\n",
    "    print('The Number is prime')\n",
    "else:\n",
    "    print('The Number is Not prime')\n",
    "    \n",
    "        "
   ]
  },
  {
   "cell_type": "code",
   "execution_count": null,
   "id": "96aebb13-999d-4cb3-aed4-f736456497f2",
   "metadata": {},
   "outputs": [],
   "source": []
  },
  {
   "cell_type": "code",
   "execution_count": null,
   "id": "291efea6-ef94-457d-8841-953cf37c81e3",
   "metadata": {},
   "outputs": [],
   "source": []
  },
  {
   "cell_type": "code",
   "execution_count": 12,
   "id": "ac56d911-c422-4609-b73d-66357e1b7988",
   "metadata": {},
   "outputs": [
    {
     "name": "stdin",
     "output_type": "stream",
     "text": [
      "Enter the Number 100\n"
     ]
    },
    {
     "name": "stdout",
     "output_type": "stream",
     "text": [
      "5050.0\n"
     ]
    }
   ],
   "source": [
    "n=int(input('Enter the Number'))\n",
    "i=1\n",
    "sum=0\n",
    "while(i<=n):\n",
    "    sum=((n)*(n+1)/2)\n",
    "    i+=1\n",
    "print(sum)    "
   ]
  },
  {
   "cell_type": "code",
   "execution_count": null,
   "id": "5d3d53fb-f72e-44d8-a15d-3f25d3dbaab2",
   "metadata": {},
   "outputs": [],
   "source": []
  },
  {
   "cell_type": "code",
   "execution_count": null,
   "id": "3e8d0d44-7864-4409-a55a-dcbada06c8f8",
   "metadata": {},
   "outputs": [],
   "source": [
    "a=int(input('Enter the Number'))\n",
    "i=a-i\n",
    "factorial=0\n",
    "while(a>i):\n",
    "    factorial=(a*(i))\n",
    "print(factorial)\n"
   ]
  },
  {
   "cell_type": "code",
   "execution_count": null,
   "id": "d862bf6b-d6b6-4524-83a5-e2676db3631d",
   "metadata": {},
   "outputs": [],
   "source": []
  },
  {
   "cell_type": "code",
   "execution_count": 61,
   "id": "a9968ba5-c43c-4d43-8dc9-d83c5ad6d02d",
   "metadata": {},
   "outputs": [
    {
     "name": "stdin",
     "output_type": "stream",
     "text": [
      "Enter the number 5\n"
     ]
    },
    {
     "name": "stdout",
     "output_type": "stream",
     "text": [
      "1 1\n",
      "2 2\n",
      "6 3\n",
      "24 4\n",
      "120 5\n"
     ]
    }
   ],
   "source": [
    "num=int(input('Enter the number'))\n",
    "factorial=1\n",
    "\n",
    "for i in range(1,num+1):\n",
    "    factorial=factorial*i\n",
    "    print(factorial,i)\n"
   ]
  },
  {
   "cell_type": "code",
   "execution_count": 59,
   "id": "66538145-8729-4df3-9498-f226935e2b39",
   "metadata": {},
   "outputs": [
    {
     "name": "stdin",
     "output_type": "stream",
     "text": [
      "Enter the number 5\n"
     ]
    },
    {
     "name": "stdout",
     "output_type": "stream",
     "text": [
      "120\n"
     ]
    }
   ],
   "source": [
    "num=int(input('Enter the number'))\n",
    "factorial=1\n",
    "i = 1\n",
    "while i <= num:\n",
    "    factorial=factorial*i\n",
    "    i = i+1\n",
    "print(factorial)\n",
    "\n",
    "\n",
    "    "
   ]
  },
  {
   "cell_type": "code",
   "execution_count": 79,
   "id": "84091b62-9bdb-4df8-abba-044cbf65a209",
   "metadata": {},
   "outputs": [
    {
     "name": "stdout",
     "output_type": "stream",
     "text": [
      "  *  \n",
      " *** \n",
      "*****\n"
     ]
    }
   ],
   "source": [
    "n=3\n",
    "for i in range(3):\n",
    "    print(' ' * (n-i-1),end='')\n",
    "    print('*' * (2*i+1),end='')\n",
    "    print(' ' * (n-i-1)) "
   ]
  },
  {
   "cell_type": "code",
   "execution_count": 37,
   "id": "c0729f9e-3a2a-4865-8dae-c8c1a6916ddc",
   "metadata": {},
   "outputs": [
    {
     "name": "stdout",
     "output_type": "stream",
     "text": [
      "\n",
      "*\n",
      "**\n",
      "***\n"
     ]
    }
   ],
   "source": [
    "for i in range(4):\n",
    "    print('*' * (i),end='')\n",
    "    print()"
   ]
  },
  {
   "cell_type": "code",
   "execution_count": null,
   "id": "116e8c42-9434-4720-8e14-ec34ebdc5894",
   "metadata": {},
   "outputs": [],
   "source": []
  },
  {
   "cell_type": "code",
   "execution_count": 40,
   "id": "ef3c7a77-9e6a-4ebd-b5f9-64cf395bad7a",
   "metadata": {},
   "outputs": [
    {
     "name": "stdout",
     "output_type": "stream",
     "text": [
      "  *\n",
      " ***\n",
      "*****\n"
     ]
    }
   ],
   "source": [
    "num_rows=3\n",
    "for i in range(num_rows):\n",
    "    print(' '*(num_rows-i-1),end='')\n",
    "    print('*'*(2*i+1))"
   ]
  },
  {
   "cell_type": "code",
   "execution_count": 82,
   "id": "7f3abf41-63d1-4cc9-a431-db811d67d3a8",
   "metadata": {},
   "outputs": [
    {
     "ename": "SyntaxError",
     "evalue": "incomplete input (2494135057.py, line 5)",
     "output_type": "error",
     "traceback": [
      "\u001b[1;36m  Cell \u001b[1;32mIn[82], line 5\u001b[1;36m\u001b[0m\n\u001b[1;33m    print()\u001b[0m\n\u001b[1;37m           ^\u001b[0m\n\u001b[1;31mSyntaxError\u001b[0m\u001b[1;31m:\u001b[0m incomplete input\n"
     ]
    }
   ],
   "source": [
    "n=3\n",
    "for i in range(3):\n",
    "    print('*'*(n),end='')\n",
    "    print(' '*(\n",
    "    print()"
   ]
  },
  {
   "cell_type": "markdown",
   "id": "616673a9-4e88-4c49-808c-2f2375da49f0",
   "metadata": {},
   "source": []
  },
  {
   "cell_type": "code",
   "execution_count": 81,
   "id": "a28463d0-940b-494d-adc2-68fd6a2d2da2",
   "metadata": {},
   "outputs": [
    {
     "name": "stdout",
     "output_type": "stream",
     "text": [
      "***\n",
      "* *\n",
      "***\n"
     ]
    }
   ],
   "source": [
    "num_rows=3\n",
    "for i in range(3):\n",
    "    if i==0 or i==num_rows-1:\n",
    "        print(\"*\"*num_rows)\n",
    "    else:\n",
    "        print('*'+' '*(1)+'*')"
   ]
  },
  {
   "cell_type": "code",
   "execution_count": null,
   "id": "1bfc2142-18aa-412c-bdfc-13ee8dbeb737",
   "metadata": {},
   "outputs": [],
   "source": []
  },
  {
   "cell_type": "code",
   "execution_count": null,
   "id": "b5944b48-2230-419a-b587-aac3b68afdc1",
   "metadata": {},
   "outputs": [],
   "source": []
  },
  {
   "cell_type": "code",
   "execution_count": 4,
   "id": "29308fce-f3f3-4558-a91f-537df004bfda",
   "metadata": {},
   "outputs": [
    {
     "name": "stdin",
     "output_type": "stream",
     "text": [
      "Enter the number 5\n"
     ]
    },
    {
     "name": "stdout",
     "output_type": "stream",
     "text": [
      "5X10=50\n",
      "5X9=45\n",
      "5X8=40\n",
      "5X7=35\n",
      "5X6=30\n",
      "5X5=25\n",
      "5X4=20\n",
      "5X3=15\n",
      "5X2=10\n",
      "5X1=5\n"
     ]
    }
   ],
   "source": [
    "n=int(input(\"Enter the number\"))\n",
    "i=10\n",
    "for j in range(i):\n",
    "    print(f'{n}X{i}={n*i}')\n",
    "    i=i-1\n",
    "    \n"
   ]
  },
  {
   "cell_type": "code",
   "execution_count": null,
   "id": "9e8f9728-6947-4d08-8ec4-6779c08cdd47",
   "metadata": {},
   "outputs": [],
   "source": []
  },
  {
   "cell_type": "markdown",
   "id": "39b44973-3a7a-46e4-8325-f288ad7e0f3c",
   "metadata": {},
   "source": []
  },
  {
   "cell_type": "code",
   "execution_count": 5,
   "id": "38208386-bf32-4ce9-b0f8-fae60b4f605b",
   "metadata": {},
   "outputs": [
    {
     "name": "stdin",
     "output_type": "stream",
     "text": [
      "Enter the phone_number 75\n"
     ]
    },
    {
     "name": "stdout",
     "output_type": "stream",
     "text": [
      "Invalid No plzz Enter 10 digit number\n",
      "0\n"
     ]
    }
   ],
   "source": [
    "\n",
    "user_phone_no=input('Enter the phone_number')\n",
    "total_sum=0\n",
    "i=0\n",
    "if len(user_phone_no)<10:\n",
    "    print('Invalid No plzz Enter 10 digit number')\n",
    "elif len(user_phone_no)==10:\n",
    "    for i in range (0,10):\n",
    "        total_sum=(int(user_phone_no[i]))+total_sum\n",
    "a=str(total_sum)\n",
    "if len(a)>0:\n",
    "    print(a)\n",
    "else:\n",
    "    print(\"-\")\n",
    "if len(user_phone_no)==10:\n",
    "    b=(int(a[0])+int(a[1]))\n",
    "    print(b)\n",
    "    d=str(b)\n",
    "    if len(d)==2:\n",
    "        print(int(d[0])+int(d[1]))\n",
    "\n"
   ]
  },
  {
   "cell_type": "code",
   "execution_count": 69,
   "id": "e555cab3-5fa6-4ff0-972c-8ab2f83aea89",
   "metadata": {},
   "outputs": [
    {
     "name": "stdout",
     "output_type": "stream",
     "text": [
      "63\n"
     ]
    }
   ],
   "source": [
    "print(a)"
   ]
  },
  {
   "cell_type": "code",
   "execution_count": 79,
   "id": "0dfd0d67-c2d2-4334-b6f6-52f8d7bd644c",
   "metadata": {},
   "outputs": [
    {
     "name": "stdout",
     "output_type": "stream",
     "text": [
      "48\n"
     ]
    }
   ],
   "source": [
    "print(total_sum)"
   ]
  },
  {
   "cell_type": "code",
   "execution_count": null,
   "id": "85e1ff8d-6b47-461e-83c9-3ab8f6d50903",
   "metadata": {},
   "outputs": [],
   "source": []
  },
  {
   "cell_type": "code",
   "execution_count": null,
   "id": "ba37862f-9ff6-460f-b7b6-901da10206da",
   "metadata": {},
   "outputs": [],
   "source": []
  },
  {
   "cell_type": "code",
   "execution_count": 51,
   "id": "f4531b22-8ba6-478e-ab91-1ef398e26829",
   "metadata": {},
   "outputs": [
    {
     "name": "stdin",
     "output_type": "stream",
     "text": [
      "Enter a string nitin\n"
     ]
    }
   ],
   "source": [
    "a=input(\"Enter a string\")\n",
    "for i in range(len(a)):\n",
    "    if a==(a[::-1]):\n",
    "        b='Palindrome'\n",
    "    else:\n",
    "        c='Not a Palindrome'"
   ]
  },
  {
   "cell_type": "code",
   "execution_count": 93,
   "id": "f1673c45-a187-4aac-9e58-8817afcf283b",
   "metadata": {},
   "outputs": [
    {
     "name": "stdin",
     "output_type": "stream",
     "text": [
      "Enter a string A man a plan a canal Panama\n"
     ]
    },
    {
     "name": "stdout",
     "output_type": "stream",
     "text": [
      "Not a Palindrome\n"
     ]
    }
   ],
   "source": [
    "a=input(\"Enter a string\")\n",
    "#for i in range(len(a)):\n",
    "if a==(a[::-1]):\n",
    "    print('Palindrome')\n",
    "else:\n",
    "    print('Not a Palindrome')\n"
   ]
  },
  {
   "cell_type": "code",
   "execution_count": null,
   "id": "60af82a1-a4e1-40cb-acc2-b25c90766f88",
   "metadata": {},
   "outputs": [],
   "source": []
  },
  {
   "cell_type": "code",
   "execution_count": null,
   "id": "0142a9e3-15e8-4332-b566-d209c914b41a",
   "metadata": {},
   "outputs": [],
   "source": []
  },
  {
   "cell_type": "markdown",
   "id": "44227ff2-3150-48d5-9431-55f0ea311c4c",
   "metadata": {},
   "source": [
    "x=1\n",
    "s=0\n",
    "while x<=5:\n",
    "    a=input('Enter the number')\n",
    "    s=(a)+s\n",
    "    x+=1\n",
    "\n",
    "print(s)"
   ]
  },
  {
   "cell_type": "code",
   "execution_count": 118,
   "id": "c648cbca-4f09-41f2-923c-fe6ade9c8f1f",
   "metadata": {},
   "outputs": [
    {
     "name": "stdin",
     "output_type": "stream",
     "text": [
      "Enter the number 50\n",
      "Enter the number 100\n",
      "Enter the number 50\n",
      "Enter the number 100\n",
      "Enter the number 100\n"
     ]
    },
    {
     "name": "stdout",
     "output_type": "stream",
     "text": [
      "400\n"
     ]
    }
   ],
   "source": [
    "x=1 \n",
    "s=0 \n",
    "while x<=5: \n",
    "    a=input('Enter the number') \n",
    "    s=(int(a))+s \n",
    "    x+=1\n",
    "\n",
    "print(s)"
   ]
  },
  {
   "cell_type": "code",
   "execution_count": 125,
   "id": "47144655-8537-4e31-a325-2998c049f778",
   "metadata": {},
   "outputs": [
    {
     "name": "stdout",
     "output_type": "stream",
     "text": [
      "p\n",
      "y\n",
      "t\n",
      "h\n",
      "o\n",
      "n\n"
     ]
    }
   ],
   "source": [
    "volume_name='python'\n",
    "for character in volume_name:\n",
    "    print(character)"
   ]
  },
  {
   "cell_type": "code",
   "execution_count": 126,
   "id": "6398f6c6-a16e-423a-9ea7-2982ed08d9eb",
   "metadata": {},
   "outputs": [
    {
     "name": "stdout",
     "output_type": "stream",
     "text": [
      "4\n"
     ]
    }
   ],
   "source": [
    "a=[1,2,3,4]\n",
    "print(max(a))"
   ]
  },
  {
   "cell_type": "code",
   "execution_count": 92,
   "id": "7e35738d-a22a-4326-afd0-63a482b5a3a1",
   "metadata": {},
   "outputs": [
    {
     "name": "stdout",
     "output_type": "stream",
     "text": [
      "Gitesh\n",
      "hsetiG\n"
     ]
    }
   ],
   "source": [
    "a='Gitesh'\n",
    "b=''\n",
    "#for b in range(len(a)):\n",
    "b=(a[::-1])\n",
    "\n",
    "\n",
    "print(a)\n",
    "print(b)"
   ]
  },
  {
   "cell_type": "code",
   "execution_count": 136,
   "id": "7de69e1b-2e1f-44c9-814a-738816db49ef",
   "metadata": {},
   "outputs": [
    {
     "data": {
      "text/plain": [
       "str"
      ]
     },
     "execution_count": 136,
     "metadata": {},
     "output_type": "execute_result"
    }
   ],
   "source": []
  },
  {
   "cell_type": "code",
   "execution_count": 156,
   "id": "f1c7a96c-b3f6-4417-b9e3-3fae65e30050",
   "metadata": {},
   "outputs": [
    {
     "data": {
      "text/plain": [
       "['C', 'B', 'A', 'A']"
      ]
     },
     "execution_count": 156,
     "metadata": {},
     "output_type": "execute_result"
    }
   ],
   "source": [
    "a='BACA'\n",
    "a=sorted(a)\n",
    "a\n",
    "a[::-1]"
   ]
  },
  {
   "cell_type": "code",
   "execution_count": 167,
   "id": "b8a51ea2-442e-48d6-8552-e881ae6d88c6",
   "metadata": {},
   "outputs": [
    {
     "name": "stdout",
     "output_type": "stream",
     "text": [
      "Heloas\n"
     ]
    }
   ],
   "source": [
    "a='Helloaass'\n",
    "b=\"\"\n",
    "for i in a:\n",
    "    if i not in b:\n",
    "        b=b+i\n",
    "print(b)\n",
    "    "
   ]
  },
  {
   "cell_type": "code",
   "execution_count": 26,
   "id": "7b8c0a4f-5ef7-4e3c-9031-f6de6c30f9dc",
   "metadata": {},
   "outputs": [],
   "source": [
    "l1 = [2,4,3]\n",
    "l2 = [5,6,4]\n",
    "\n"
   ]
  },
  {
   "cell_type": "code",
   "execution_count": 18,
   "id": "8ec3988c-c8e7-4170-8dea-6056d7c6a5e7",
   "metadata": {},
   "outputs": [
    {
     "data": {
      "text/plain": [
       "[3, 4, 2]"
      ]
     },
     "execution_count": 18,
     "metadata": {},
     "output_type": "execute_result"
    }
   ],
   "source": [
    "l1"
   ]
  },
  {
   "cell_type": "code",
   "execution_count": 19,
   "id": "48eb8f49-3f79-4268-a8ff-c5a2ace7c877",
   "metadata": {},
   "outputs": [
    {
     "name": "stdout",
     "output_type": "stream",
     "text": [
      "3\n",
      "4\n",
      "2\n"
     ]
    }
   ],
   "source": [
    "s1=\"\"\n",
    "for i in l1:\n",
    "    print(i)\n",
    "    s1=str(i)+s1"
   ]
  },
  {
   "cell_type": "code",
   "execution_count": 20,
   "id": "d6a7d67b-69cd-44f0-bd52-3d9ee93eb333",
   "metadata": {},
   "outputs": [
    {
     "data": {
      "text/plain": [
       "'243'"
      ]
     },
     "execution_count": 20,
     "metadata": {},
     "output_type": "execute_result"
    }
   ],
   "source": [
    "s1"
   ]
  },
  {
   "cell_type": "code",
   "execution_count": 21,
   "id": "cfa925b7-477a-42b7-89c9-b026c72d84f6",
   "metadata": {},
   "outputs": [],
   "source": [
    "s2=\"\"\n",
    "for i in l2:\n",
    "    #print(i)\n",
    "    s2=str(i)+s2"
   ]
  },
  {
   "cell_type": "code",
   "execution_count": 22,
   "id": "effa42b4-0bab-4489-948f-f463fd9fc99a",
   "metadata": {},
   "outputs": [
    {
     "data": {
      "text/plain": [
       "'564'"
      ]
     },
     "execution_count": 22,
     "metadata": {},
     "output_type": "execute_result"
    }
   ],
   "source": [
    "s2"
   ]
  },
  {
   "cell_type": "code",
   "execution_count": 23,
   "id": "3de52bf3-d576-4a06-9218-49bf425153cf",
   "metadata": {},
   "outputs": [],
   "source": [
    "s1=s1[::-1]\n",
    "s2=s2[::-1]"
   ]
  },
  {
   "cell_type": "code",
   "execution_count": 24,
   "id": "c3029b24-d2cf-4ddc-9074-7c78e8ab9950",
   "metadata": {},
   "outputs": [
    {
     "data": {
      "text/plain": [
       "('342', '465')"
      ]
     },
     "execution_count": 24,
     "metadata": {},
     "output_type": "execute_result"
    }
   ],
   "source": [
    "s1,s2"
   ]
  },
  {
   "cell_type": "code",
   "execution_count": 25,
   "id": "897a50cb-bbd5-4132-a42c-5515ecbcc150",
   "metadata": {},
   "outputs": [
    {
     "data": {
      "text/plain": [
       "807"
      ]
     },
     "execution_count": 25,
     "metadata": {},
     "output_type": "execute_result"
    }
   ],
   "source": [
    "int(s1)+int(s2)"
   ]
  },
  {
   "cell_type": "code",
   "execution_count": null,
   "id": "4eba52d1-78cb-42ee-a098-bd0bff2928dc",
   "metadata": {},
   "outputs": [],
   "source": []
  },
  {
   "cell_type": "code",
   "execution_count": null,
   "id": "02f0f4d3-e3de-46ee-9274-4831ece487a2",
   "metadata": {},
   "outputs": [],
   "source": []
  },
  {
   "cell_type": "code",
   "execution_count": 38,
   "id": "70bb9cde-d943-4423-a28f-702a6c9719ef",
   "metadata": {},
   "outputs": [
    {
     "name": "stdout",
     "output_type": "stream",
     "text": [
      "321\n",
      "654\n"
     ]
    },
    {
     "data": {
      "text/plain": [
       "975"
      ]
     },
     "execution_count": 38,
     "metadata": {},
     "output_type": "execute_result"
    }
   ],
   "source": [
    "b=''\n",
    "d=''\n",
    "a=[1,2,3]\n",
    "c=[4,5,6]\n",
    "for i in a:\n",
    "    b=str(i)+b\n",
    "print(b)\n",
    "for j in c:\n",
    "    d=str(j)+d\n",
    "print(d)\n",
    "\n",
    "\n",
    "int(b)+int(d)"
   ]
  },
  {
   "cell_type": "code",
   "execution_count": null,
   "id": "94992db5-9f55-492f-aa21-1cd382a18e0c",
   "metadata": {},
   "outputs": [],
   "source": []
  },
  {
   "cell_type": "code",
   "execution_count": 48,
   "id": "729783ec-1e93-4821-bf47-ddaec5c43cf1",
   "metadata": {},
   "outputs": [
    {
     "name": "stdout",
     "output_type": "stream",
     "text": [
      "[10, 20, 30, 40, 50]\n"
     ]
    }
   ],
   "source": [
    "number_list = [10, 20, 30, 40, 50, 60, 70, 80, 90, 100]\n",
    "for i in number_list:\n",
    "    if i<=50:\n",
    "        number_list.pop()\n",
    "print(number_list)"
   ]
  },
  {
   "cell_type": "code",
   "execution_count": null,
   "id": "09b49933-43d1-428c-b757-0ccaf3844324",
   "metadata": {},
   "outputs": [],
   "source": []
  },
  {
   "cell_type": "code",
   "execution_count": null,
   "id": "d0bcbc69-c19f-4ccc-895e-08d6b4b4ec40",
   "metadata": {},
   "outputs": [],
   "source": [
    "\n",
    "    "
   ]
  },
  {
   "cell_type": "code",
   "execution_count": 57,
   "id": "1f3967dd-821c-4ec9-a579-67e6e8016508",
   "metadata": {},
   "outputs": [
    {
     "name": "stdout",
     "output_type": "stream",
     "text": [
      "[20, 30, 60]\n"
     ]
    }
   ],
   "source": [
    "sample_list = [10, 20, 60, 30, 20, 40, 30, 60, 70, 80]\n",
    "exist={}\n",
    "duplicates=[]\n",
    "\n",
    "for x in sample_list:\n",
    "    if x not in exist:\n",
    "        exist[x]=1\n",
    "    else:\n",
    "        duplicates.append(x)\n",
    "print(duplicates)\n",
    "\n",
    "        \n",
    "    "
   ]
  },
  {
   "cell_type": "code",
   "execution_count": 56,
   "id": "0c8e9558-c0fd-4450-91d8-14039864743c",
   "metadata": {},
   "outputs": [
    {
     "data": {
      "text/plain": [
       "2"
      ]
     },
     "execution_count": 56,
     "metadata": {},
     "output_type": "execute_result"
    }
   ],
   "source": [
    "sample_list.count(20)"
   ]
  },
  {
   "cell_type": "markdown",
   "id": "6307b9ec-3cd6-484c-8e75-8b5430be3224",
   "metadata": {},
   "source": [
    "1 1 1 1 1 \r\n",
    "2 2 2 2 \r\n",
    "3 3 3 \r\n",
    "4 4 \r\n",
    "5"
   ]
  },
  {
   "cell_type": "code",
   "execution_count": null,
   "id": "c021cd04-429d-4a8b-afba-ec61cdf0d4a3",
   "metadata": {},
   "outputs": [],
   "source": [
    "\n",
    "        \n",
    "    "
   ]
  },
  {
   "cell_type": "code",
   "execution_count": 125,
   "id": "070b1961-5b31-40dd-9166-9fe941472df9",
   "metadata": {},
   "outputs": [
    {
     "name": "stdout",
     "output_type": "stream",
     "text": [
      "1 1 1 1 1 \n",
      "2 2 2 2 \n",
      "3 3 3 \n",
      "4 4 \n",
      "5 \n"
     ]
    }
   ],
   "source": [
    "n=5\n",
    "for i in range(1,6):\n",
    "    a = str(i)*n\n",
    "    for j in a:\n",
    "        print(j, end = ' ')\n",
    "    print()\n",
    "    n = n-1"
   ]
  },
  {
   "cell_type": "code",
   "execution_count": 127,
   "id": "f750a618-5470-4454-bbca-62cccbdc354e",
   "metadata": {},
   "outputs": [
    {
     "name": "stdout",
     "output_type": "stream",
     "text": [
      "1 1 1 1 1 \n",
      "2 2 2 2 2 \n",
      "3 3 3 3 3 \n",
      "4 4 4 4 4 \n",
      "5 5 5 5 5 \n"
     ]
    }
   ],
   "source": [
    "n=5\n",
    "for i in range(1,6):\n",
    "    a=str(i)*5\n",
    "    for j in a:\n",
    "        print(j,end=' ')\n",
    "    print()\n",
    "    n=n-1"
   ]
  },
  {
   "cell_type": "code",
   "execution_count": 7,
   "id": "74fb36dc-9c66-4093-951b-d50dee86760c",
   "metadata": {},
   "outputs": [],
   "source": [
    "emp_dict = {\n",
    "    \"company\": {\n",
    "        \"employee\": {\n",
    "            \"name\": \"Jess\",\n",
    "            \"payable\": {\n",
    "                \"salary\": 9000,\n",
    "                \"increment\": 12\n",
    "            }\n",
    "        }\n",
    "    }\n",
    "}\n"
   ]
  },
  {
   "cell_type": "code",
   "execution_count": 23,
   "id": "9ff848f0-7360-4af3-9f14-327a4306c58c",
   "metadata": {},
   "outputs": [
    {
     "data": {
      "text/plain": [
       "12"
      ]
     },
     "execution_count": 23,
     "metadata": {},
     "output_type": "execute_result"
    }
   ],
   "source": [
    "emp_dict['company']['employee']['payable']['increment']"
   ]
  },
  {
   "cell_type": "code",
   "execution_count": null,
   "id": "d4182f9e-0604-48aa-82bb-3a2435b7adc4",
   "metadata": {},
   "outputs": [],
   "source": []
  },
  {
   "cell_type": "markdown",
   "id": "9766973f-df2e-4143-93ac-e14c00da1749",
   "metadata": {},
   "source": []
  },
  {
   "cell_type": "markdown",
   "id": "f93b59ec-186e-4b33-a4d1-c1b5a3606037",
   "metadata": {},
   "source": [
    "\n",
    "        "
   ]
  },
  {
   "cell_type": "code",
   "execution_count": null,
   "id": "84cc3e39-94ab-4ed5-94a2-1d253a19c7f7",
   "metadata": {},
   "outputs": [],
   "source": []
  },
  {
   "cell_type": "code",
   "execution_count": 218,
   "id": "d25370d3-80f5-44e8-9c8d-8f8869c1c4e9",
   "metadata": {},
   "outputs": [
    {
     "name": "stdin",
     "output_type": "stream",
     "text": [
      "Enter the input number of times 5\n",
      "Enter the number 5\n",
      "Enter the number 5\n",
      "Enter the number 5\n",
      "Enter the number 5\n",
      "Enter the number 5\n"
     ]
    },
    {
     "name": "stdout",
     "output_type": "stream",
     "text": [
      "25\n"
     ]
    }
   ],
   "source": [
    "##### num_times=int(input('Enter the input number of times'))\n",
    "total=0\n",
    "for i in range(num_times):\n",
    "    num=int(input('Enter the number'))\n",
    "    total=num+total\n",
    "\n",
    "print(total)\n"
   ]
  },
  {
   "cell_type": "code",
   "execution_count": null,
   "id": "4c6aa4ac-8d8e-4d5a-a37f-642c9c42daf6",
   "metadata": {},
   "outputs": [],
   "source": []
  },
  {
   "cell_type": "code",
   "execution_count": 5,
   "id": "a79200dd-b582-4201-a12a-9c97e9f7040d",
   "metadata": {},
   "outputs": [
    {
     "name": "stdout",
     "output_type": "stream",
     "text": [
      "54\n",
      "34\n"
     ]
    }
   ],
   "source": [
    "l=[4,5,6,7,8,9,10,12,13,14]\n",
    "\n",
    "sum_even=0\n",
    "sum_odd=0\n",
    "for i in l:\n",
    "    if i%2==0:\n",
    "        sum_even+=i\n",
    "    else:\n",
    "        sum_odd+=i\n",
    "\n",
    "print(sum_even)\n",
    "print(sum_odd)"
   ]
  },
  {
   "cell_type": "code",
   "execution_count": null,
   "id": "701545cc-5de8-4eea-804a-860641007ae8",
   "metadata": {},
   "outputs": [],
   "source": []
  },
  {
   "cell_type": "code",
   "execution_count": 20,
   "id": "78f4bf03-c760-416a-b506-199033dd35bf",
   "metadata": {},
   "outputs": [
    {
     "name": "stdin",
     "output_type": "stream",
     "text": [
      "Enter the number 5.4\n"
     ]
    },
    {
     "name": "stdout",
     "output_type": "stream",
     "text": [
      "5.4X5=27.0\n",
      "5.4X6=32.400000000000006\n",
      "5.4X7=37.800000000000004\n",
      "5.4X8=43.2\n",
      "5.4X9=48.6\n",
      "5.4X10=54.0\n",
      "5.4X11=59.400000000000006\n",
      "5.4X12=64.80000000000001\n",
      "5.4X13=70.2\n",
      "5.4X14=75.60000000000001\n"
     ]
    }
   ],
   "source": [
    "n=eval(input('Enter the number'))\n",
    "for i in range(5,15):\n",
    "    print(f\"{n}X{i}={n*i}\")"
   ]
  },
  {
   "cell_type": "code",
   "execution_count": null,
   "id": "cef4228d-f483-4823-bdc7-7283cb57f7e3",
   "metadata": {},
   "outputs": [],
   "source": []
  },
  {
   "cell_type": "code",
   "execution_count": 25,
   "id": "602ab649-5064-43a0-a7ab-77438e2d9a19",
   "metadata": {},
   "outputs": [
    {
     "name": "stdout",
     "output_type": "stream",
     "text": [
      "1\n",
      "2\n",
      "3\n"
     ]
    }
   ],
   "source": [
    "l=[1,2,3,4]\n",
    "for i in l:\n",
    "    print(i)\n",
    "    if i==3:\n",
    "        break"
   ]
  },
  {
   "cell_type": "code",
   "execution_count": null,
   "id": "54d12d9c-ddf3-4e40-b38a-8b6d344211b6",
   "metadata": {},
   "outputs": [],
   "source": []
  },
  {
   "cell_type": "code",
   "execution_count": 34,
   "id": "ab7b66cd-94bd-4cca-87e5-a0df9ee87cae",
   "metadata": {},
   "outputs": [
    {
     "name": "stdin",
     "output_type": "stream",
     "text": [
      "Enter the value 5\n",
      "Enter the value 5\n",
      "Enter the value 5\n",
      "Enter the value 41\n"
     ]
    },
    {
     "name": "stdout",
     "output_type": "stream",
     "text": [
      "56\n"
     ]
    }
   ],
   "source": [
    "sum=0\n",
    "for i in range(100):\n",
    "    v=int(input('Enter the value'))\n",
    "    sum+=v\n",
    "    if sum>50:\n",
    "        break\n",
    "    \n",
    "\n",
    "print(sum)\n",
    "    "
   ]
  },
  {
   "cell_type": "code",
   "execution_count": null,
   "id": "4b484f76-7cf1-4db4-8205-3520dbc193d1",
   "metadata": {},
   "outputs": [],
   "source": []
  },
  {
   "cell_type": "code",
   "execution_count": 63,
   "id": "78886b3b-f7ec-47f9-8399-ea1181f5fdf5",
   "metadata": {},
   "outputs": [
    {
     "name": "stdin",
     "output_type": "stream",
     "text": [
      "Enter the number 15\n"
     ]
    },
    {
     "name": "stdout",
     "output_type": "stream",
     "text": [
      "*\n",
      "**\n",
      "***\n",
      "****\n",
      "*****\n",
      "******\n",
      "*******\n",
      "********\n",
      "*********\n",
      "**********\n",
      "***********\n",
      "************\n",
      "*************\n",
      "**************\n",
      "***************\n"
     ]
    }
   ],
   "source": [
    "height=int(input('Enter the number'))\n",
    "for i in range(1,height+1):\n",
    "    print('*'*i)"
   ]
  },
  {
   "cell_type": "code",
   "execution_count": 55,
   "id": "b16e57d4-2ae0-4962-9169-f8468dcdd8af",
   "metadata": {},
   "outputs": [
    {
     "name": "stdin",
     "output_type": "stream",
     "text": [
      "Enter the height of the triangle:  10\n"
     ]
    },
    {
     "name": "stdout",
     "output_type": "stream",
     "text": [
      "*\n",
      "**\n",
      "***\n",
      "****\n",
      "*****\n",
      "******\n",
      "*******\n",
      "********\n",
      "*********\n",
      "**********\n"
     ]
    }
   ],
   "source": [
    "height = int(input(\"Enter the height of the triangle: \"))\n",
    "\n",
    "for i in range(1, height + 1):\n",
    "    print('*' * i)"
   ]
  },
  {
   "cell_type": "code",
   "execution_count": 86,
   "id": "a3ce06eb-e5b3-408e-8147-7aeb27be84d9",
   "metadata": {},
   "outputs": [
    {
     "name": "stdout",
     "output_type": "stream",
     "text": [
      "*****\n",
      "****\n",
      "***\n",
      "**\n",
      "*\n"
     ]
    }
   ],
   "source": [
    "n=5\n",
    "for i in range(n,0,-1):\n",
    "    print('*'*i)"
   ]
  },
  {
   "cell_type": "code",
   "execution_count": 87,
   "id": "a6ed3195-0ed7-4353-ab29-92f1bf839561",
   "metadata": {},
   "outputs": [
    {
     "name": "stdout",
     "output_type": "stream",
     "text": [
      "\n",
      "*\n",
      "**\n",
      "***\n",
      "****\n",
      "*****\n"
     ]
    }
   ],
   "source": [
    "n=5\n",
    "for i in range(0,n+1):\n",
    "    print('*'*i)"
   ]
  },
  {
   "cell_type": "code",
   "execution_count": 91,
   "id": "c692835a-7034-49fa-99f2-13e86cad2742",
   "metadata": {},
   "outputs": [
    {
     "name": "stdout",
     "output_type": "stream",
     "text": [
      "    *\n",
      "   ***\n",
      "  *****\n",
      " *******\n",
      "*********\n"
     ]
    }
   ],
   "source": [
    "n=5\n",
    "for i in range(1,n+1):\n",
    "    print(' '*(n-i)+'*'*(2*i-1))"
   ]
  },
  {
   "cell_type": "code",
   "execution_count": 147,
   "id": "4b969f76-50f1-45e7-8d10-86656e8d1440",
   "metadata": {},
   "outputs": [
    {
     "name": "stdin",
     "output_type": "stream",
     "text": [
      "Enter the number 14\n"
     ]
    },
    {
     "name": "stdout",
     "output_type": "stream",
     "text": [
      "Not a Prime Number\n"
     ]
    }
   ],
   "source": [
    "number=int(input('Enter the number'))\n",
    "for i in range(3,number):\n",
    "    if (number%i)==0:\n",
    "        print('Not a Prime Number')\n",
    "        break\n",
    "else:\n",
    "    print('Prime Number')"
   ]
  },
  {
   "cell_type": "code",
   "execution_count": null,
   "id": "e5fa180c-7c11-4747-bfce-f2bf55fab4b9",
   "metadata": {},
   "outputs": [],
   "source": []
  },
  {
   "cell_type": "code",
   "execution_count": 158,
   "id": "274e88e2-5dc2-4988-b758-c994a1102c7d",
   "metadata": {},
   "outputs": [
    {
     "name": "stdout",
     "output_type": "stream",
     "text": [
      "5.0\n"
     ]
    }
   ],
   "source": [
    "a=[3,4,8]\n",
    "sum=0\n",
    "average=0\n",
    "for i in a:\n",
    "    sum+=i\n",
    "    \n",
    "\n",
    "print(sum/len(a))\n"
   ]
  },
  {
   "cell_type": "code",
   "execution_count": 7,
   "id": "62ab7a50-a584-420c-b936-b4eca75bfe84",
   "metadata": {},
   "outputs": [
    {
     "name": "stdout",
     "output_type": "stream",
     "text": [
      "120\n"
     ]
    }
   ],
   "source": [
    "n=5\n",
    "factorail=1\n",
    "for i in range (1,n+1):\n",
    "    factorail=factorail*i\n",
    "    \n",
    "print(factorail)\n"
   ]
  },
  {
   "cell_type": "code",
   "execution_count": 31,
   "id": "55a717e3-b161-4348-a25f-9d8b441d22f4",
   "metadata": {},
   "outputs": [
    {
     "name": "stdout",
     "output_type": "stream",
     "text": [
      "0 1 1 2 3 5 8 13 21 34 "
     ]
    }
   ],
   "source": [
    "num_terms=10\n",
    "a,b=0,1\n",
    "print(a, end=\" \")\n",
    "print(b, end=\" \")\n",
    "for i in range(2,num_terms):\n",
    "    next_term=a+b\n",
    "    print(next_term,end=' ')\n",
    "    a,b=b,next_term"
   ]
  },
  {
   "cell_type": "code",
   "execution_count": 48,
   "id": "922813c3-1307-4215-8c25-fe51ebe508dc",
   "metadata": {},
   "outputs": [],
   "source": [
    "emp_dict = {\n",
    "    \"company\": {\n",
    "        \"employee\": {\n",
    "            \"name\": \"Jess\",\n",
    "            \"payable\": {\n",
    "                \"salary\": 9000,\n",
    "                \"increment\": 12\n",
    "        }\n",
    "        }\n",
    "    }\n",
    "}"
   ]
  },
  {
   "cell_type": "code",
   "execution_count": 62,
   "id": "d3075b34-9e18-4767-8aea-b6199da9769b",
   "metadata": {},
   "outputs": [],
   "source": [
    "dict={\n",
    "    'marks':{\n",
    "'Harry':37.2,\n",
    "'Berry':37.21,\n",
    "'Tina': 37.2,\n",
    "'Akriti':41,\n",
    "'Harsh':39\n",
    "    }\n",
    "}\n",
    "marks=list(set(dict['marks'].values()))\n",
    "sorted_marks=sorted(marks)\n",
    "    "
   ]
  },
  {
   "cell_type": "code",
   "execution_count": 76,
   "id": "974db990-fc47-4a7e-ad53-51dec9744025",
   "metadata": {},
   "outputs": [
    {
     "name": "stdout",
     "output_type": "stream",
     "text": [
      "37.2\n"
     ]
    }
   ],
   "source": [
    "second_lowest_grade=sorted_marks[0]\n",
    "print(second_lowest_grade)"
   ]
  },
  {
   "cell_type": "code",
   "execution_count": 80,
   "id": "cf295367-fc11-4bd7-8b35-98b7ea2441ab",
   "metadata": {},
   "outputs": [
    {
     "name": "stdout",
     "output_type": "stream",
     "text": [
      "Harry:37.2\n",
      "Tina:37.2\n"
     ]
    }
   ],
   "source": [
    "for name,mark in dict['marks'].items():\n",
    "    if mark==second_lowest_grade:\n",
    "        print(f\"{name}:{mark}\")"
   ]
  },
  {
   "cell_type": "code",
   "execution_count": 77,
   "id": "9803bab1-5914-495d-ae6e-54c633861724",
   "metadata": {},
   "outputs": [
    {
     "data": {
      "text/plain": [
       "[37.2, 37.21, 39, 41]"
      ]
     },
     "execution_count": 77,
     "metadata": {},
     "output_type": "execute_result"
    }
   ],
   "source": [
    "sorted_marks"
   ]
  },
  {
   "cell_type": "code",
   "execution_count": 84,
   "id": "a7fa0f18-ad28-4e9f-bafa-5fd658f6bd3a",
   "metadata": {},
   "outputs": [
    {
     "data": {
      "text/plain": [
       "39"
      ]
     },
     "execution_count": 84,
     "metadata": {},
     "output_type": "execute_result"
    }
   ],
   "source": [
    "dict['marks']['Harsh']"
   ]
  },
  {
   "cell_type": "code",
   "execution_count": null,
   "id": "dd99be1b-0487-4e21-b0cb-f76a307c07e0",
   "metadata": {},
   "outputs": [],
   "source": []
  },
  {
   "cell_type": "code",
   "execution_count": 103,
   "id": "72704a20-6b8c-4001-8b89-2fe74c55fcbc",
   "metadata": {},
   "outputs": [
    {
     "name": "stdout",
     "output_type": "stream",
     "text": [
      "1 2 3 4 5 6 7 8 9 10 11 12 13 14 15 16 17 18 19 20 21 22 23 24 25 26 27 28 29 \n",
      "2 4 6 8 10 12 14 16 18 20 22 24 26 28 30 32 34 36 38 40 42 44 46 48 50 52 54 56 58 \n",
      "3 6 9 12 15 18 21 24 27 30 33 36 39 42 45 48 51 54 57 60 63 66 69 72 75 78 81 84 87 \n",
      "4 8 12 16 20 24 28 32 36 40 44 48 52 56 60 64 68 72 76 80 84 88 92 96 100 104 108 112 116 \n",
      "5 10 15 20 25 30 35 40 45 50 55 60 65 70 75 80 85 90 95 100 105 110 115 120 125 130 135 140 145 \n",
      "6 12 18 24 30 36 42 48 54 60 66 72 78 84 90 96 102 108 114 120 126 132 138 144 150 156 162 168 174 \n",
      "7 14 21 28 35 42 49 56 63 70 77 84 91 98 105 112 119 126 133 140 147 154 161 168 175 182 189 196 203 \n",
      "8 16 24 32 40 48 56 64 72 80 88 96 104 112 120 128 136 144 152 160 168 176 184 192 200 208 216 224 232 \n",
      "9 18 27 36 45 54 63 72 81 90 99 108 117 126 135 144 153 162 171 180 189 198 207 216 225 234 243 252 261 \n",
      "10 20 30 40 50 60 70 80 90 100 110 120 130 140 150 160 170 180 190 200 210 220 230 240 250 260 270 280 290 \n",
      "11 22 33 44 55 66 77 88 99 110 121 132 143 154 165 176 187 198 209 220 231 242 253 264 275 286 297 308 319 \n",
      "12 24 36 48 60 72 84 96 108 120 132 144 156 168 180 192 204 216 228 240 252 264 276 288 300 312 324 336 348 \n",
      "13 26 39 52 65 78 91 104 117 130 143 156 169 182 195 208 221 234 247 260 273 286 299 312 325 338 351 364 377 \n",
      "14 28 42 56 70 84 98 112 126 140 154 168 182 196 210 224 238 252 266 280 294 308 322 336 350 364 378 392 406 \n",
      "15 30 45 60 75 90 105 120 135 150 165 180 195 210 225 240 255 270 285 300 315 330 345 360 375 390 405 420 435 \n",
      "16 32 48 64 80 96 112 128 144 160 176 192 208 224 240 256 272 288 304 320 336 352 368 384 400 416 432 448 464 \n",
      "17 34 51 68 85 102 119 136 153 170 187 204 221 238 255 272 289 306 323 340 357 374 391 408 425 442 459 476 493 \n",
      "18 36 54 72 90 108 126 144 162 180 198 216 234 252 270 288 306 324 342 360 378 396 414 432 450 468 486 504 522 \n",
      "19 38 57 76 95 114 133 152 171 190 209 228 247 266 285 304 323 342 361 380 399 418 437 456 475 494 513 532 551 \n",
      "20 40 60 80 100 120 140 160 180 200 220 240 260 280 300 320 340 360 380 400 420 440 460 480 500 520 540 560 580 \n",
      "21 42 63 84 105 126 147 168 189 210 231 252 273 294 315 336 357 378 399 420 441 462 483 504 525 546 567 588 609 \n",
      "22 44 66 88 110 132 154 176 198 220 242 264 286 308 330 352 374 396 418 440 462 484 506 528 550 572 594 616 638 \n",
      "23 46 69 92 115 138 161 184 207 230 253 276 299 322 345 368 391 414 437 460 483 506 529 552 575 598 621 644 667 \n",
      "24 48 72 96 120 144 168 192 216 240 264 288 312 336 360 384 408 432 456 480 504 528 552 576 600 624 648 672 696 \n",
      "25 50 75 100 125 150 175 200 225 250 275 300 325 350 375 400 425 450 475 500 525 550 575 600 625 650 675 700 725 \n",
      "26 52 78 104 130 156 182 208 234 260 286 312 338 364 390 416 442 468 494 520 546 572 598 624 650 676 702 728 754 \n",
      "27 54 81 108 135 162 189 216 243 270 297 324 351 378 405 432 459 486 513 540 567 594 621 648 675 702 729 756 783 \n",
      "28 56 84 112 140 168 196 224 252 280 308 336 364 392 420 448 476 504 532 560 588 616 644 672 700 728 756 784 812 \n",
      "29 58 87 116 145 174 203 232 261 290 319 348 377 406 435 464 493 522 551 580 609 638 667 696 725 754 783 812 841 \n",
      "30 60 90 120 150 180 210 240 270 300 330 360 390 420 450 480 510 540 570 600 630 660 690 720 750 780 810 840 870 \n",
      "31 62 93 124 155 186 217 248 279 310 341 372 403 434 465 496 527 558 589 620 651 682 713 744 775 806 837 868 899 \n",
      "32 64 96 128 160 192 224 256 288 320 352 384 416 448 480 512 544 576 608 640 672 704 736 768 800 832 864 896 928 \n",
      "33 66 99 132 165 198 231 264 297 330 363 396 429 462 495 528 561 594 627 660 693 726 759 792 825 858 891 924 957 \n",
      "34 68 102 136 170 204 238 272 306 340 374 408 442 476 510 544 578 612 646 680 714 748 782 816 850 884 918 952 986 \n",
      "35 70 105 140 175 210 245 280 315 350 385 420 455 490 525 560 595 630 665 700 735 770 805 840 875 910 945 980 1015 \n",
      "36 72 108 144 180 216 252 288 324 360 396 432 468 504 540 576 612 648 684 720 756 792 828 864 900 936 972 1008 1044 \n",
      "37 74 111 148 185 222 259 296 333 370 407 444 481 518 555 592 629 666 703 740 777 814 851 888 925 962 999 1036 1073 \n",
      "38 76 114 152 190 228 266 304 342 380 418 456 494 532 570 608 646 684 722 760 798 836 874 912 950 988 1026 1064 1102 \n",
      "39 78 117 156 195 234 273 312 351 390 429 468 507 546 585 624 663 702 741 780 819 858 897 936 975 1014 1053 1092 1131 \n",
      "40 80 120 160 200 240 280 320 360 400 440 480 520 560 600 640 680 720 760 800 840 880 920 960 1000 1040 1080 1120 1160 \n",
      "41 82 123 164 205 246 287 328 369 410 451 492 533 574 615 656 697 738 779 820 861 902 943 984 1025 1066 1107 1148 1189 \n",
      "42 84 126 168 210 252 294 336 378 420 462 504 546 588 630 672 714 756 798 840 882 924 966 1008 1050 1092 1134 1176 1218 \n",
      "43 86 129 172 215 258 301 344 387 430 473 516 559 602 645 688 731 774 817 860 903 946 989 1032 1075 1118 1161 1204 1247 \n",
      "44 88 132 176 220 264 308 352 396 440 484 528 572 616 660 704 748 792 836 880 924 968 1012 1056 1100 1144 1188 1232 1276 \n",
      "45 90 135 180 225 270 315 360 405 450 495 540 585 630 675 720 765 810 855 900 945 990 1035 1080 1125 1170 1215 1260 1305 \n",
      "46 92 138 184 230 276 322 368 414 460 506 552 598 644 690 736 782 828 874 920 966 1012 1058 1104 1150 1196 1242 1288 1334 \n",
      "47 94 141 188 235 282 329 376 423 470 517 564 611 658 705 752 799 846 893 940 987 1034 1081 1128 1175 1222 1269 1316 1363 \n",
      "48 96 144 192 240 288 336 384 432 480 528 576 624 672 720 768 816 864 912 960 1008 1056 1104 1152 1200 1248 1296 1344 1392 \n",
      "49 98 147 196 245 294 343 392 441 490 539 588 637 686 735 784 833 882 931 980 1029 1078 1127 1176 1225 1274 1323 1372 1421 \n",
      "The loop is over\n"
     ]
    }
   ],
   "source": [
    "for table_value in range(1,50):\n",
    "    for multiplier in range(1,30):\n",
    "        answer=table_value*multiplier\n",
    "        print(answer,end=' ')\n",
    "    print()\n",
    "else:\n",
    "    print('The loop is over')\n",
    "    \n",
    "        "
   ]
  },
  {
   "cell_type": "code",
   "execution_count": null,
   "id": "84132e1b-6765-4f68-8cdd-c09c0daaef41",
   "metadata": {},
   "outputs": [],
   "source": []
  },
  {
   "cell_type": "code",
   "execution_count": 117,
   "id": "2a8f2783-6774-4a7c-be30-07fff45e9ddb",
   "metadata": {},
   "outputs": [
    {
     "name": "stdin",
     "output_type": "stream",
     "text": [
      "Enter the string A man a plan a canal Panama\n"
     ]
    },
    {
     "name": "stdout",
     "output_type": "stream",
     "text": [
      "Palindrome\n"
     ]
    }
   ],
   "source": [
    "a=str(input('Enter the string'))\n",
    "b=a.replace(' ','').lower()\n",
    "if b==b[::-1]:\n",
    "    print('Palindrome')\n",
    "else:\n",
    "    print('Not a Palindrome')\n"
   ]
  },
  {
   "cell_type": "code",
   "execution_count": null,
   "id": "e34785fe-788b-4ff5-82f5-f0668953ea8e",
   "metadata": {},
   "outputs": [],
   "source": []
  },
  {
   "cell_type": "code",
   "execution_count": 125,
   "id": "d79258eb-75f3-4620-b06d-9626105c0f79",
   "metadata": {},
   "outputs": [
    {
     "name": "stdout",
     "output_type": "stream",
     "text": [
      "A student a plan a canal Panama\n"
     ]
    }
   ],
   "source": [
    "a='A man a plan a canal Panama'\n",
    "print(a.replace('man','student'))\n"
   ]
  },
  {
   "cell_type": "code",
   "execution_count": 127,
   "id": "8cc5a883-da4c-49dc-806d-547342bf98d5",
   "metadata": {},
   "outputs": [
    {
     "name": "stdout",
     "output_type": "stream",
     "text": [
      "Not a substring\n"
     ]
    }
   ],
   "source": [
    "a='A man a plan a canal Panama'\n",
    "b='Lan'\n",
    "if b in a:\n",
    "    print('Substring')\n",
    "else:\n",
    "    print('Not a substring')\n",
    "    \n"
   ]
  },
  {
   "cell_type": "code",
   "execution_count": 130,
   "id": "c547947a-29da-4477-9043-f09106c68b67",
   "metadata": {},
   "outputs": [
    {
     "name": "stdout",
     "output_type": "stream",
     "text": [
      "8\n"
     ]
    }
   ],
   "source": [
    "a='A man a plan a canal Panama'\n",
    "b='plan'\n",
    "c=a.find(b)\n",
    "print(c)"
   ]
  },
  {
   "cell_type": "code",
   "execution_count": 133,
   "id": "c72e0fa6-1023-4d8d-991c-a9e965270ee5",
   "metadata": {},
   "outputs": [],
   "source": [
    "a='A man a plan a canal Panama'\n",
    "b=a.split('plan') "
   ]
  },
  {
   "cell_type": "code",
   "execution_count": 134,
   "id": "0c6fde3b-95ee-4a21-ae43-e2ce327393ea",
   "metadata": {},
   "outputs": [
    {
     "name": "stdout",
     "output_type": "stream",
     "text": [
      "['A man a ', ' a canal Panama']\n"
     ]
    }
   ],
   "source": [
    "print(b)"
   ]
  },
  {
   "cell_type": "code",
   "execution_count": null,
   "id": "67ac0da3-d199-4703-8cd5-b754c9fd253a",
   "metadata": {},
   "outputs": [],
   "source": []
  },
  {
   "cell_type": "code",
   "execution_count": 139,
   "id": "3c1bcebf-8be9-4aa2-a252-58415770f1cd",
   "metadata": {},
   "outputs": [
    {
     "name": "stdout",
     "output_type": "stream",
     "text": [
      "[2, 4, 6, 8, 10, 12, 14, 16, 18, 20]\n",
      "[1, 3, 5, 7, 9, 11, 13, 15, 17, 19]\n"
     ]
    }
   ],
   "source": [
    "a=[]\n",
    "b=[]\n",
    "for i in range(1,21):\n",
    "    if i%2==0:\n",
    "        a.append(i)\n",
    "    elif i%2!=0:\n",
    "        b.append(i)\n",
    "print(a)\n",
    "print(b)\n",
    "        "
   ]
  },
  {
   "cell_type": "raw",
   "id": "d12464e0-1cd7-4ea4-bac3-d58f2ce0844e",
   "metadata": {},
   "source": []
  },
  {
   "cell_type": "code",
   "execution_count": 146,
   "id": "6cd76008-825c-4ca7-9459-d8913276f615",
   "metadata": {},
   "outputs": [
    {
     "name": "stdin",
     "output_type": "stream",
     "text": [
      "Enter the number 4\n"
     ]
    },
    {
     "name": "stdout",
     "output_type": "stream",
     "text": [
      "24\n"
     ]
    }
   ],
   "source": [
    "no=int(input('Enter the number'))\n",
    "factorial=1\n",
    "for i in range(1,no+1):\n",
    "    factorial=i*factorial\n",
    "print(factorial)\n",
    "    "
   ]
  },
  {
   "cell_type": "code",
   "execution_count": null,
   "id": "d5d8630a-a5e3-4675-af36-90f00efe8e6b",
   "metadata": {},
   "outputs": [],
   "source": []
  },
  {
   "cell_type": "code",
   "execution_count": 153,
   "id": "2794e098-e5c5-487c-b5ff-7d756314e68f",
   "metadata": {},
   "outputs": [],
   "source": [
    "sum=0\n",
    "for i in range(1,11):\n",
    "    sum+=(i*i)"
   ]
  },
  {
   "cell_type": "code",
   "execution_count": 154,
   "id": "90503c6e-b619-4fd0-9079-0ac88ef2d8e6",
   "metadata": {},
   "outputs": [
    {
     "name": "stdout",
     "output_type": "stream",
     "text": [
      "385\n"
     ]
    }
   ],
   "source": [
    "print(sum)"
   ]
  },
  {
   "cell_type": "code",
   "execution_count": null,
   "id": "432d0deb-531d-4200-8bb3-77fa623dde97",
   "metadata": {},
   "outputs": [],
   "source": []
  },
  {
   "cell_type": "code",
   "execution_count": 163,
   "id": "5265df82-0b22-43fb-866a-025bb878ca78",
   "metadata": {},
   "outputs": [
    {
     "name": "stdout",
     "output_type": "stream",
     "text": [
      "[5, 4, 3, 2, 1]\n"
     ]
    }
   ],
   "source": [
    "a=[1,2,3,4,5]\n",
    "b=[]\n",
    "for i in a[::-1]:\n",
    "    b.append(i)\n",
    "print(b)"
   ]
  },
  {
   "cell_type": "code",
   "execution_count": null,
   "id": "bc06628c-03bc-43c6-a340-1d763750b2f7",
   "metadata": {},
   "outputs": [],
   "source": []
  },
  {
   "cell_type": "code",
   "execution_count": 209,
   "id": "7232ff12-cb1c-4b93-9d52-34b8011cd4ba",
   "metadata": {},
   "outputs": [
    {
     "name": "stdout",
     "output_type": "stream",
     "text": [
      "***\n",
      "* *\n",
      "***\n"
     ]
    }
   ],
   "source": [
    "for i in range(1):\n",
    "    print('*'*3)\n",
    "    print('*','*')\n",
    "    print(\"*\"*3)\n",
    "    \n"
   ]
  },
  {
   "cell_type": "code",
   "execution_count": null,
   "id": "eaf3e094-4db4-4101-97ad-378dfe711fe2",
   "metadata": {},
   "outputs": [],
   "source": []
  },
  {
   "cell_type": "code",
   "execution_count": 1,
   "id": "13d8c13e-f795-481c-a3c9-23f5f1af0015",
   "metadata": {},
   "outputs": [
    {
     "name": "stdout",
     "output_type": "stream",
     "text": [
      "0\n",
      "1\n",
      "2\n"
     ]
    }
   ],
   "source": [
    "for i in range(5):\n",
    "    if i == 3:\n",
    "        break\n",
    "    print(i)"
   ]
  },
  {
   "cell_type": "code",
   "execution_count": null,
   "id": "998c2108-a93b-419b-9c11-f7e1c0f1a875",
   "metadata": {},
   "outputs": [],
   "source": []
  },
  {
   "cell_type": "code",
   "execution_count": 10,
   "id": "695afb48-51fa-42fe-94c5-ab9d874371aa",
   "metadata": {},
   "outputs": [
    {
     "name": "stdout",
     "output_type": "stream",
     "text": [
      "14 10\n",
      "14 11\n",
      "18 10\n",
      "18 11\n",
      "20 10\n",
      "20 11\n"
     ]
    }
   ],
   "source": [
    "for i in [14,18,20]:\n",
    "    for j in range(10,12):\n",
    "        print(i,j)\n",
    "            "
   ]
  },
  {
   "cell_type": "code",
   "execution_count": null,
   "id": "e1673ecc-3808-40de-8531-728dcd1abf7a",
   "metadata": {},
   "outputs": [],
   "source": []
  },
  {
   "cell_type": "code",
   "execution_count": null,
   "id": "4cd43764-ba0f-45e9-b059-339aece6cea1",
   "metadata": {},
   "outputs": [],
   "source": []
  },
  {
   "cell_type": "code",
   "execution_count": null,
   "id": "321d5f64-9385-4747-9390-c9490a0e6084",
   "metadata": {},
   "outputs": [],
   "source": []
  }
 ],
 "metadata": {
  "kernelspec": {
   "display_name": "Python 3 (ipykernel)",
   "language": "python",
   "name": "python3"
  },
  "language_info": {
   "codemirror_mode": {
    "name": "ipython",
    "version": 3
   },
   "file_extension": ".py",
   "mimetype": "text/x-python",
   "name": "python",
   "nbconvert_exporter": "python",
   "pygments_lexer": "ipython3",
   "version": "3.11.5"
  }
 },
 "nbformat": 4,
 "nbformat_minor": 5
}
