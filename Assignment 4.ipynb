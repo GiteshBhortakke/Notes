{
 "cells": [
  {
   "cell_type": "raw",
   "id": "d85b7352-5938-4dd9-9ba7-ad3226b36f8c",
   "metadata": {},
   "source": []
  },
  {
   "cell_type": "code",
   "execution_count": null,
   "id": "9d749eca-e882-44e7-9dd5-9311304af00d",
   "metadata": {},
   "outputs": [],
   "source": []
  },
  {
   "cell_type": "code",
   "execution_count": null,
   "id": "a27530f4-da9f-458e-8007-61301a641c7e",
   "metadata": {},
   "outputs": [],
   "source": []
  },
  {
   "cell_type": "code",
   "execution_count": 36,
   "id": "4286701e-2ba7-40d6-9ceb-b7b410e57915",
   "metadata": {},
   "outputs": [
    {
     "name": "stdout",
     "output_type": "stream",
     "text": [
      "male count 4\n",
      "female count 2\n",
      "others count 0\n",
      "male percentage is 66.66666666666666\n",
      "female percentage is 33.33333333333333\n",
      "percentage of others is 0.0\n",
      "Unique Values- ['m', 'f']\n"
     ]
    }
   ],
   "source": [
    "def f_m_count(a):\n",
    "    #a=\n",
    "    f_c=0\n",
    "    m_c=0\n",
    "    oth=0\n",
    "    for i in a:\n",
    "        if i==\"m\":\n",
    "            m_c=m_c+1\n",
    "        elif i==\"f\":\n",
    "            f_c=f_c+1\n",
    "        else:\n",
    "            oth=oth+1\n",
    "            \n",
    "        tot=f_c+m_c+oth\n",
    "        \n",
    "        male_per=(m_c/tot)*100\n",
    "        female_per=(f_c/tot)*100\n",
    "        others=(oth/tot)*100\n",
    "    unique=[]\n",
    "    value=\"mf\"\n",
    "    for i in a:\n",
    "        if i in value:\n",
    "            if i not in unique:\n",
    "                \n",
    "                unique.append(i)\n",
    "        \n",
    "    \n",
    "    print(\"male count\",m_c)\n",
    "    print(\"female count\",f_c)\n",
    "    print(\"others count\",oth)\n",
    "    \n",
    "    print(\"male percentage is\",male_per)\n",
    "    print(\"female percentage is\",female_per)\n",
    "    print(\"percentage of others is\",others)\n",
    "    print('Unique Values-',unique)\n",
    "obj=f_m_count([\"m\",\"f\",\"f\",\"m\",\"m\",\"m\"])\n",
    "obj"
   ]
  },
  {
   "cell_type": "code",
   "execution_count": 7,
   "id": "88dc63b2-b5ba-4f98-a87a-54833333ae58",
   "metadata": {},
   "outputs": [
    {
     "data": {
      "text/plain": [
       "{'f', 'm'}"
      ]
     },
     "execution_count": 7,
     "metadata": {},
     "output_type": "execute_result"
    }
   ],
   "source": [
    "l = [\"m\",\"f\",\"f\",\"m\",\"m\",\"m\"]\n",
    "a = set(l)\n",
    "a"
   ]
  },
  {
   "cell_type": "code",
   "execution_count": 2,
   "id": "38dd1987-21b4-4273-b7b4-1a212f042fbf",
   "metadata": {},
   "outputs": [
    {
     "name": "stdout",
     "output_type": "stream",
     "text": [
      "Unique values- [1, 2, 3, 4]\n"
     ]
    }
   ],
   "source": [
    "def find_unique_values(input_list):\n",
    "    unique_values=set(input_list)\n",
    "    return list(unique_values)\n",
    "\n",
    "my_list=[1,2,3,4,2,3,4]\n",
    "unique_values=find_unique_values(my_list)\n",
    "print('Unique values-',unique_values)"
   ]
  },
  {
   "cell_type": "code",
   "execution_count": null,
   "id": "211755ad-879c-4f6f-9adc-b22a5e117ff8",
   "metadata": {},
   "outputs": [],
   "source": []
  },
  {
   "cell_type": "code",
   "execution_count": null,
   "id": "2f772bfc-b647-46d7-bff4-281b9d3a9921",
   "metadata": {},
   "outputs": [],
   "source": [
    "find_unique_values([1,1,2,2,3,3,4,4])"
   ]
  },
  {
   "cell_type": "code",
   "execution_count": 28,
   "id": "29aa8b45-96a6-412c-820f-6902c0d54b36",
   "metadata": {},
   "outputs": [
    {
     "name": "stdout",
     "output_type": "stream",
     "text": [
      "30\n",
      "male count 1\n",
      "female count 1\n",
      "others count 0\n",
      "male percentage is 50.0\n",
      "female percentage is 50.0\n",
      "percentage of others is 0.0\n",
      "Unique Values- {'m', 'f'}\n"
     ]
    }
   ],
   "source": [
    "f_m_count(a)"
   ]
  },
  {
   "cell_type": "code",
   "execution_count": null,
   "id": "29ccb69e-ee9f-4d49-b2ab-f609bf86f143",
   "metadata": {},
   "outputs": [],
   "source": []
  },
  {
   "cell_type": "code",
   "execution_count": null,
   "id": "fd01275a-b863-4298-888f-8ab02211c58a",
   "metadata": {},
   "outputs": [],
   "source": []
  },
  {
   "cell_type": "code",
   "execution_count": 2,
   "id": "4035f3c9-34a1-4bb5-9d77-93f3be9d6cb0",
   "metadata": {},
   "outputs": [
    {
     "name": "stdout",
     "output_type": "stream",
     "text": [
      "['0179', '0269', '0359', '1259', '1349', '2789', '3689', '4589', '4679']\n"
     ]
    }
   ],
   "source": [
    "list1=[]\n",
    "list2=[]\n",
    "list3=[]\n",
    "list4=[]\n",
    "for i in range(129,10000):\n",
    "    form=('{:04d}'.format(i))\n",
    "    list1.append(form)\n",
    "for i in list1:\n",
    "    if i.endswith('9'):\n",
    "        list2.append(i)\n",
    "for i in list2:\n",
    "    if len(set(i))==len(i):\n",
    "        list3.append(i)\n",
    "for i in list3:\n",
    "    s=0\n",
    "    a=i\n",
    "    for i in a:\n",
    "        s=int(i)+s\n",
    "        b=s\n",
    "        if b==17:\n",
    "            list4.append(a)\n",
    "            def ascending(s):\n",
    "                return all((int(s[i]))<=int(s[i+1]) for i in range(len(s)-1))\n",
    "ascending_val=[x for x in list4 if ascending(x)]\n",
    "print(ascending_val)"
   ]
  },
  {
   "cell_type": "code",
   "execution_count": null,
   "id": "df524616-eee2-474c-aa88-19577ec8d36d",
   "metadata": {},
   "outputs": [],
   "source": []
  },
  {
   "cell_type": "code",
   "execution_count": null,
   "id": "2aa10127-10f3-430e-9191-0dd011f3bdb5",
   "metadata": {},
   "outputs": [],
   "source": []
  },
  {
   "cell_type": "code",
   "execution_count": null,
   "id": "e8021c63-5dd4-48b7-a29a-cda483aba976",
   "metadata": {},
   "outputs": [],
   "source": []
  },
  {
   "cell_type": "code",
   "execution_count": null,
   "id": "f8e1441d-8025-4481-8a1d-a7a56f089bf2",
   "metadata": {},
   "outputs": [],
   "source": []
  },
  {
   "cell_type": "code",
   "execution_count": null,
   "id": "44da40a6-8e9f-4745-8efc-e64e5cc24515",
   "metadata": {},
   "outputs": [],
   "source": []
  },
  {
   "cell_type": "code",
   "execution_count": null,
   "id": "840f19c7-d66c-4e5e-a9db-1cd864dbeef6",
   "metadata": {},
   "outputs": [],
   "source": []
  }
 ],
 "metadata": {
  "kernelspec": {
   "display_name": "Python 3 (ipykernel)",
   "language": "python",
   "name": "python3"
  },
  "language_info": {
   "codemirror_mode": {
    "name": "ipython",
    "version": 3
   },
   "file_extension": ".py",
   "mimetype": "text/x-python",
   "name": "python",
   "nbconvert_exporter": "python",
   "pygments_lexer": "ipython3",
   "version": "3.11.5"
  }
 },
 "nbformat": 4,
 "nbformat_minor": 5
}
